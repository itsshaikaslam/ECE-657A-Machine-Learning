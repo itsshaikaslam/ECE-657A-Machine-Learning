{
  "nbformat": 4,
  "nbformat_minor": 0,
  "metadata": {
    "colab": {
      "name": "A3_Part2_code.ipynb",
      "provenance": [],
      "collapsed_sections": [],
      "authorship_tag": "ABX9TyNIM/GU3ZpF1nNKoY4ygHZp",
      "include_colab_link": true
    },
    "kernelspec": {
      "name": "python3",
      "display_name": "Python 3"
    },
    "accelerator": "GPU"
  },
  "cells": [
    {
      "cell_type": "markdown",
      "metadata": {
        "id": "view-in-github",
        "colab_type": "text"
      },
      "source": [
        "<a href=\"https://colab.research.google.com/github/sai-teja-ponugoti/ECE-657A-Machine-Learning/blob/master/Assignment3/A3_Part2_code.ipynb\" target=\"_parent\"><img src=\"https://colab.research.google.com/assets/colab-badge.svg\" alt=\"Open In Colab\"/></a>"
      ]
    },
    {
      "cell_type": "markdown",
      "metadata": {
        "id": "9DEEpOrkWJ5S",
        "colab_type": "text"
      },
      "source": [
        "# **CNN PART**"
      ]
    },
    {
      "cell_type": "code",
      "metadata": {
        "id": "odtDjEJMWKmh",
        "colab_type": "code",
        "colab": {}
      },
      "source": [
        "# import libraries \n",
        "import pandas as pd # Import Pandas for data manipulation using dataframes\n",
        "import numpy as np # Import Numpy for data statistical analysis \n",
        "import matplotlib.pyplot as plt # Import matplotlib for data visualisation\n",
        "import seaborn as sns\n",
        "import random\n",
        "import keras\n",
        "%matplotlib inline\n",
        "sns.set_style(\"whitegrid\")\n",
        "from sklearn.metrics import f1_score\n",
        "from sklearn.metrics import confusion_matrix\n",
        "from sklearn.metrics import log_loss\n",
        "from sklearn.model_selection import train_test_split"
      ],
      "execution_count": 0,
      "outputs": []
    },
    {
      "cell_type": "code",
      "metadata": {
        "id": "vWj3FOBUGEwp",
        "colab_type": "code",
        "outputId": "cca03a40-965b-426c-9573-d24e598ec4cf",
        "colab": {
          "resources": {
            "http://localhost:8080/nbextensions/google.colab/files.js": {
              "data": "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",
              "ok": true,
              "headers": [
                [
                  "content-type",
                  "application/javascript"
                ]
              ],
              "status": 200,
              "status_text": ""
            }
          },
          "base_uri": "https://localhost:8080/",
          "height": 278
        }
      },
      "source": [
        "# !pip install -q kaggle\n",
        "# from google.colab import files\n",
        "# uploaded = files.upload()\n",
        "# !kaggle competitions download -c ece-657a-w20-asg3-part-1\n",
        "from google.colab import files\n",
        "import io\n",
        "uploaded = files.upload()\n",
        "\n",
        "!pip install -q kaggle\n",
        "\n",
        "# Let's make sure the kaggle.json file is present.\n",
        "!ls -lha kaggle.json\n",
        "\n",
        "# Next, install the Kaggle API client.\n",
        "!pip install -q kaggle\n",
        "\n",
        "# The Kaggle API client expects this file to be in ~/.kaggle,\n",
        "# so move it there.\n",
        "!mkdir -p ~/.kaggle\n",
        "!cp kaggle.json ~/.kaggle/\n",
        "\n",
        "# This permissions change avoids a warning on Kaggle tool startup.\n",
        "!chmod 600 ~/.kaggle/kaggle.json\n",
        "\n",
        "# !kaggle datasets download -d bharath150/minidata\n",
        "\n",
        "# !unzip minidata.zip\n",
        "\n",
        "!kaggle competitions download -c ece657a-w20-asg3-part2\n",
        "\n",
        "!unzip train.csv.zip\n",
        "\n",
        "!unzip testX.csv.zip\n",
        "\n",
        "# train = pd.read_csv(\"../input/train.csv\")\n",
        "# test = pd.read_csv(\"../input/test.csv\")"
      ],
      "execution_count": 0,
      "outputs": [
        {
          "output_type": "display_data",
          "data": {
            "text/html": [
              "\n",
              "     <input type=\"file\" id=\"files-1e20123c-8847-4533-be0b-9477121c12fb\" name=\"files[]\" multiple disabled />\n",
              "     <output id=\"result-1e20123c-8847-4533-be0b-9477121c12fb\">\n",
              "      Upload widget is only available when the cell has been executed in the\n",
              "      current browser session. Please rerun this cell to enable.\n",
              "      </output>\n",
              "      <script src=\"/nbextensions/google.colab/files.js\"></script> "
            ],
            "text/plain": [
              "<IPython.core.display.HTML object>"
            ]
          },
          "metadata": {
            "tags": []
          }
        },
        {
          "output_type": "stream",
          "text": [
            "Saving kaggle.json to kaggle.json\n",
            "-rw-r--r-- 1 root root 71 Apr 21 21:43 kaggle.json\n",
            "Warning: Looks like you're using an outdated API Version, please consider updating (server 1.5.6 / client 1.5.4)\n",
            "Downloading train.csv.zip to /content\n",
            " 83% 28.0M/33.7M [00:00<00:00, 39.4MB/s]\n",
            "100% 33.7M/33.7M [00:00<00:00, 76.0MB/s]\n",
            "Downloading testX.csv.zip to /content\n",
            " 89% 5.00M/5.59M [00:00<00:00, 30.2MB/s]\n",
            "100% 5.59M/5.59M [00:00<00:00, 27.4MB/s]\n",
            "Archive:  train.csv.zip\n",
            "  inflating: train.csv               \n",
            "Archive:  testX.csv.zip\n",
            "  inflating: testX.csv               \n"
          ],
          "name": "stdout"
        }
      ]
    },
    {
      "cell_type": "code",
      "metadata": {
        "id": "rgjKGdI3GbVd",
        "colab_type": "code",
        "colab": {}
      },
      "source": [
        "# dataframes creation for both training and testing datasets \n",
        "fashion_train_df = pd.read_csv('train.csv')\n",
        "fashion_test_df = pd.read_csv('testX.csv')"
      ],
      "execution_count": 0,
      "outputs": []
    },
    {
      "cell_type": "code",
      "metadata": {
        "id": "HM8OA73sHB0I",
        "colab_type": "code",
        "outputId": "8c419fb4-a4df-4987-8541-70f85f9033d8",
        "colab": {
          "base_uri": "https://localhost:8080/",
          "height": 51
        }
      },
      "source": [
        "print(fashion_train_df.shape)\n",
        "print(fashion_test_df.shape)"
      ],
      "execution_count": 0,
      "outputs": [
        {
          "output_type": "stream",
          "text": [
            "(60000, 786)\n",
            "(10000, 785)\n"
          ],
          "name": "stdout"
        }
      ]
    },
    {
      "cell_type": "code",
      "metadata": {
        "id": "w8As-glJHju1",
        "colab_type": "code",
        "colab": {}
      },
      "source": [
        "# Create training and testing arrays\n",
        "train = np.array(fashion_train_df, dtype = 'float32')\n",
        "test = np.array(fashion_test_df, dtype='float32')\n",
        "fashion_test = np.array(fashion_test_df, dtype='float32')\n",
        "# print(fashion_test[1])\n"
      ],
      "execution_count": 0,
      "outputs": []
    },
    {
      "cell_type": "code",
      "metadata": {
        "id": "mf07UxQTHp_3",
        "colab_type": "code",
        "outputId": "6000515e-7880-43c6-dd03-0aee01c8e8d4",
        "colab": {
          "base_uri": "https://localhost:8080/",
          "height": 298
        }
      },
      "source": [
        "# Let's view some images!\n",
        "i = random.randint(1,60000) # select any random index from 1 to 60,000\n",
        "plt.imshow(train[i,2:].reshape((28,28)))\n",
        "\n",
        "plt.imshow(train[i,2:].reshape((28,28)) , cmap = 'gray') # reshape and plot the image\n",
        "label_index = fashion_train_df.iloc[:,1][i]\n",
        "plt.title(label_index)"
      ],
      "execution_count": 0,
      "outputs": [
        {
          "output_type": "execute_result",
          "data": {
            "text/plain": [
              "Text(0.5, 1.0, '1')"
            ]
          },
          "metadata": {
            "tags": []
          },
          "execution_count": 6
        },
        {
          "output_type": "display_data",
          "data": {
            "image/png": "[encoded data removed]",
            "text/plain": [
              "<Figure size 432x288 with 1 Axes>"
            ]
          },
          "metadata": {
            "tags": [],
            "needs_background": "light"
          }
        }
      ]
    },
    {
      "cell_type": "code",
      "metadata": {
        "id": "8ftz2QKAm7wf",
        "colab_type": "code",
        "colab": {}
      },
      "source": [
        "X_train, X_test, y_train, y_test = train_test_split(train[:, 2:], train[:, 1], test_size = 0.0005, random_state = 42)"
      ],
      "execution_count": 0,
      "outputs": []
    },
    {
      "cell_type": "code",
      "metadata": {
        "id": "Gjcdk9rNH5qi",
        "colab_type": "code",
        "outputId": "b143e14e-c248-4a7a-8578-f04fcf540990",
        "colab": {
          "base_uri": "https://localhost:8080/",
          "height": 1000
        }
      },
      "source": [
        "# Prepare the training and testing dataset \n",
        "X_train = X_train/ 255\n",
        "# y_train = keras.utils.to_categorical(y_train, 5)\n",
        "\n",
        "X_test = X_test/ 255\n",
        "fashion_test = fashion_test[:,1:]\n",
        "fashion_test = fashion_test/255\n",
        "print(fashion_test[1])"
      ],
      "execution_count": 0,
      "outputs": [
        {
          "output_type": "stream",
          "text": [
            "[0.         0.         0.         0.         0.         0.00392157\n",
            " 0.         0.         0.         0.         0.16078432 0.7372549\n",
            " 0.40392157 0.21176471 0.1882353  0.16862746 0.34117648 0.65882355\n",
            " 0.52156866 0.0627451  0.         0.         0.         0.\n",
            " 0.         0.         0.         0.         0.         0.\n",
            " 0.         0.00392157 0.         0.         0.         0.19215687\n",
            " 0.53333336 0.85882354 0.84705883 0.89411765 0.9254902  1.\n",
            " 1.         1.         1.         0.8509804  0.84313726 0.99607843\n",
            " 0.90588236 0.627451   0.1764706  0.         0.         0.\n",
            " 0.         0.         0.         0.         0.         0.\n",
            " 0.         0.05490196 0.6901961  0.87058824 0.8784314  0.83137256\n",
            " 0.79607844 0.7764706  0.76862746 0.78431374 0.84313726 0.8\n",
            " 0.7921569  0.7882353  0.7882353  0.7882353  0.81960785 0.85490197\n",
            " 0.8784314  0.6431373  0.         0.         0.         0.\n",
            " 0.         0.         0.         0.         0.         0.7372549\n",
            " 0.85882354 0.78431374 0.7764706  0.7921569  0.7764706  0.78039217\n",
            " 0.78039217 0.7882353  0.76862746 0.7764706  0.7764706  0.78431374\n",
            " 0.78431374 0.78431374 0.78431374 0.7882353  0.78431374 0.88235295\n",
            " 0.16078432 0.         0.         0.         0.         0.\n",
            " 0.         0.         0.2        0.85882354 0.78039217 0.79607844\n",
            " 0.79607844 0.83137256 0.93333334 0.972549   0.98039216 0.9607843\n",
            " 0.9764706  0.9647059  0.96862745 0.9882353  0.972549   0.92156863\n",
            " 0.8117647  0.79607844 0.79607844 0.87058824 0.54901963 0.\n",
            " 0.         0.         0.         0.         0.         0.\n",
            " 0.45490196 0.8862745  0.80784315 0.8        0.8117647  0.8\n",
            " 0.39607844 0.29411766 0.18431373 0.28627452 0.1882353  0.19607843\n",
            " 0.1764706  0.2        0.24705882 0.44313726 0.87058824 0.7921569\n",
            " 0.80784315 0.8627451  0.8784314  0.         0.         0.\n",
            " 0.         0.         0.         0.         0.78431374 0.87058824\n",
            " 0.81960785 0.79607844 0.84313726 0.78431374 0.         0.27450982\n",
            " 0.38431373 0.         0.40392157 0.23137255 0.26666668 0.2784314\n",
            " 0.19215687 0.         0.85882354 0.80784315 0.8392157  0.8235294\n",
            " 0.98039216 0.14901961 0.         0.         0.         0.\n",
            " 0.         0.         0.96862745 0.85490197 0.83137256 0.8235294\n",
            " 0.84313726 0.8392157  0.         0.99607843 0.9529412  0.54509807\n",
            " 1.         0.68235296 0.9843137  1.         0.8039216  0.\n",
            " 0.84313726 0.8509804  0.8392157  0.8156863  0.8627451  0.37254903\n",
            " 0.         0.         0.         0.         0.         0.1764706\n",
            " 0.8862745  0.8392157  0.8392157  0.84313726 0.8784314  0.8039216\n",
            " 0.         0.16470589 0.13725491 0.23529412 0.0627451  0.06666667\n",
            " 0.04705882 0.05098039 0.27450982 0.         0.7411765  0.84705883\n",
            " 0.83137256 0.80784315 0.83137256 0.6117647  0.         0.\n",
            " 0.         0.         0.         0.6431373  0.92156863 0.8392157\n",
            " 0.827451   0.8627451  0.84705883 0.7882353  0.20392157 0.2784314\n",
            " 0.34901962 0.36862746 0.3254902  0.30588236 0.27450982 0.29803923\n",
            " 0.36078432 0.34117648 0.80784315 0.8117647  0.87058824 0.8352941\n",
            " 0.85882354 0.8156863  0.         0.         0.         0.\n",
            " 0.         0.41568628 0.73333335 0.8745098  0.92941177 0.972549\n",
            " 0.827451   0.7764706  0.9882353  0.98039216 0.972549   0.9607843\n",
            " 0.972549   0.9882353  0.99215686 0.98039216 0.9882353  0.9372549\n",
            " 0.7882353  0.83137256 0.88235295 0.84313726 0.75686276 0.44313726\n",
            " 0.         0.         0.         0.         0.         0.\n",
            " 0.         0.06666667 0.21176471 0.62352943 0.87058824 0.75686276\n",
            " 0.8156863  0.7529412  0.77254903 0.78431374 0.78431374 0.78431374\n",
            " 0.78431374 0.7882353  0.79607844 0.7647059  0.8235294  0.64705884\n",
            " 0.         0.         0.         0.         0.         0.\n",
            " 0.         0.         0.         0.         0.         0.\n",
            " 0.         0.18431373 0.88235295 0.7529412  0.8392157  0.79607844\n",
            " 0.80784315 0.8        0.8        0.8039216  0.80784315 0.8\n",
            " 0.83137256 0.77254903 0.85490197 0.41960785 0.         0.\n",
            " 0.         0.         0.         0.         0.         0.\n",
            " 0.         0.         0.00392157 0.02352941 0.         0.18039216\n",
            " 0.83137256 0.7647059  0.83137256 0.7921569  0.80784315 0.8039216\n",
            " 0.8        0.8039216  0.80784315 0.8        0.83137256 0.78431374\n",
            " 0.85490197 0.35686275 0.         0.01176471 0.00392157 0.\n",
            " 0.         0.         0.         0.         0.         0.\n",
            " 0.         0.00392157 0.         0.04313726 0.77254903 0.78039217\n",
            " 0.8039216  0.7921569  0.8039216  0.80784315 0.8        0.8039216\n",
            " 0.8117647  0.8        0.8039216  0.8039216  0.85490197 0.3019608\n",
            " 0.         0.01960784 0.         0.         0.         0.\n",
            " 0.         0.         0.         0.         0.         0.01176471\n",
            " 0.         0.00784314 0.7490196  0.7764706  0.7882353  0.8039216\n",
            " 0.80784315 0.8039216  0.8039216  0.80784315 0.81960785 0.80784315\n",
            " 0.78039217 0.81960785 0.85882354 0.2901961  0.         0.01960784\n",
            " 0.         0.         0.         0.         0.         0.\n",
            " 0.         0.         0.         0.00784314 0.         0.\n",
            " 0.7372549  0.77254903 0.78431374 0.8117647  0.8117647  0.8\n",
            " 0.8117647  0.8117647  0.8235294  0.8156863  0.7764706  0.8117647\n",
            " 0.8666667  0.28235295 0.         0.01568628 0.         0.\n",
            " 0.         0.         0.         0.         0.         0.\n",
            " 0.         0.00784314 0.         0.         0.84313726 0.7764706\n",
            " 0.79607844 0.80784315 0.8156863  0.8039216  0.8117647  0.8117647\n",
            " 0.8235294  0.8156863  0.78431374 0.7921569  0.87058824 0.29411766\n",
            " 0.         0.01568628 0.         0.         0.         0.\n",
            " 0.         0.         0.         0.         0.         0.00392157\n",
            " 0.         0.         0.83137256 0.7764706  0.81960785 0.80784315\n",
            " 0.81960785 0.80784315 0.8156863  0.8117647  0.827451   0.80784315\n",
            " 0.8039216  0.7764706  0.8666667  0.3137255  0.         0.01176471\n",
            " 0.         0.         0.         0.         0.         0.\n",
            " 0.         0.         0.         0.00392157 0.         0.\n",
            " 0.8        0.7882353  0.8039216  0.8156863  0.8117647  0.8039216\n",
            " 0.827451   0.8039216  0.8235294  0.8235294  0.81960785 0.7647059\n",
            " 0.8666667  0.3764706  0.         0.01176471 0.         0.\n",
            " 0.         0.         0.         0.         0.         0.\n",
            " 0.         0.00392157 0.         0.         0.7921569  0.7882353\n",
            " 0.8039216  0.81960785 0.8117647  0.8039216  0.8352941  0.80784315\n",
            " 0.8235294  0.81960785 0.8235294  0.7607843  0.8509804  0.4117647\n",
            " 0.         0.00784314 0.         0.         0.         0.\n",
            " 0.         0.         0.         0.         0.         0.00392157\n",
            " 0.         0.         0.8        0.8        0.8039216  0.8156863\n",
            " 0.8117647  0.8039216  0.84313726 0.8117647  0.8235294  0.8156863\n",
            " 0.827451   0.75686276 0.8352941  0.4509804  0.         0.00784314\n",
            " 0.         0.         0.         0.         0.         0.\n",
            " 0.         0.         0.         0.         0.         0.\n",
            " 0.8        0.8117647  0.8117647  0.8156863  0.80784315 0.80784315\n",
            " 0.84313726 0.8235294  0.8235294  0.8117647  0.83137256 0.7647059\n",
            " 0.8235294  0.4627451  0.         0.00784314 0.         0.\n",
            " 0.         0.         0.         0.         0.         0.\n",
            " 0.         0.00392157 0.         0.         0.7764706  0.8156863\n",
            " 0.8156863  0.8156863  0.8        0.8117647  0.83137256 0.83137256\n",
            " 0.8235294  0.8117647  0.827451   0.76862746 0.8117647  0.4745098\n",
            " 0.         0.00392157 0.         0.         0.         0.\n",
            " 0.         0.         0.         0.         0.         0.00392157\n",
            " 0.         0.         0.7764706  0.8235294  0.8117647  0.8156863\n",
            " 0.80784315 0.81960785 0.8352941  0.83137256 0.827451   0.8117647\n",
            " 0.8235294  0.77254903 0.8117647  0.4862745  0.         0.00392157\n",
            " 0.         0.         0.         0.         0.         0.\n",
            " 0.         0.         0.         0.         0.         0.\n",
            " 0.6745098  0.8235294  0.79607844 0.7882353  0.78039217 0.8\n",
            " 0.8117647  0.8039216  0.8        0.7882353  0.8039216  0.77254903\n",
            " 0.80784315 0.49803922 0.         0.         0.         0.\n",
            " 0.         0.         0.         0.         0.         0.\n",
            " 0.         0.         0.         0.         0.7372549  0.8666667\n",
            " 0.8392157  0.91764706 0.9254902  0.93333334 0.95686275 0.95686275\n",
            " 0.95686275 0.9411765  0.9529412  0.8392157  0.8784314  0.63529414\n",
            " 0.         0.00784314 0.         0.         0.         0.\n",
            " 0.         0.         0.         0.         0.         0.00392157\n",
            " 0.         0.         0.54509807 0.57254905 0.50980395 0.5294118\n",
            " 0.5294118  0.5372549  0.49019608 0.4862745  0.49019608 0.4745098\n",
            " 0.46666667 0.44705883 0.50980395 0.29803923 0.         0.\n",
            " 0.         0.         0.         0.        ]\n"
          ],
          "name": "stdout"
        }
      ]
    },
    {
      "cell_type": "code",
      "metadata": {
        "id": "BjXm7zfUIGNU",
        "colab_type": "code",
        "outputId": "cd68f32d-e23e-438e-9b58-be1acb4a29a1",
        "colab": {
          "base_uri": "https://localhost:8080/",
          "height": 51
        }
      },
      "source": [
        "print(X_train.shape)\n",
        "print(y_train.shape)"
      ],
      "execution_count": 0,
      "outputs": [
        {
          "output_type": "stream",
          "text": [
            "(59970, 784)\n",
            "(59970,)\n"
          ],
          "name": "stdout"
        }
      ]
    },
    {
      "cell_type": "code",
      "metadata": {
        "id": "g1xvw_zfIPXb",
        "colab_type": "code",
        "outputId": "e2c41219-034a-49e4-c238-a5719581f607",
        "colab": {
          "base_uri": "https://localhost:8080/",
          "height": 51
        }
      },
      "source": [
        "X_train, X_validate, y_train, y_validate = train_test_split(X_train, y_train, test_size = 0.0051, random_state = 42)\n",
        "print(X_train.shape)\n",
        "print(y_train.shape)"
      ],
      "execution_count": 0,
      "outputs": [
        {
          "output_type": "stream",
          "text": [
            "(59664, 784)\n",
            "(59664,)\n"
          ],
          "name": "stdout"
        }
      ]
    },
    {
      "cell_type": "code",
      "metadata": {
        "id": "pf55tzFyIWIY",
        "colab_type": "code",
        "outputId": "8ecf6638-420f-4bed-b908-c4b4f002b43d",
        "colab": {
          "base_uri": "https://localhost:8080/",
          "height": 1000
        }
      },
      "source": [
        "# * unpack the tuple\n",
        "X_train = X_train.reshape(X_train.shape[0], *(28, 28, 1))\n",
        "X_test = X_test.reshape(X_test.shape[0], *(28, 28, 1))\n",
        "X_validate = X_validate.reshape(X_validate.shape[0], *(28, 28, 1))\n",
        "fashion_test = fashion_test.reshape(fashion_test.shape[0],*(28, 28, 1))\n",
        "print(X_train.shape)\n",
        "print(y_train.shape)\n",
        "print(X_validate.shape)\n",
        "\n",
        "print(fashion_test[1])"
      ],
      "execution_count": 0,
      "outputs": [
        {
          "output_type": "stream",
          "text": [
            "(59664, 28, 28, 1)\n",
            "(59664,)\n",
            "(306, 28, 28, 1)\n",
            "[[[0.        ]\n",
            "  [0.        ]\n",
            "  [0.        ]\n",
            "  [0.        ]\n",
            "  [0.        ]\n",
            "  [0.00392157]\n",
            "  [0.        ]\n",
            "  [0.        ]\n",
            "  [0.        ]\n",
            "  [0.        ]\n",
            "  [0.16078432]\n",
            "  [0.7372549 ]\n",
            "  [0.40392157]\n",
            "  [0.21176471]\n",
            "  [0.1882353 ]\n",
            "  [0.16862746]\n",
            "  [0.34117648]\n",
            "  [0.65882355]\n",
            "  [0.52156866]\n",
            "  [0.0627451 ]\n",
            "  [0.        ]\n",
            "  [0.        ]\n",
            "  [0.        ]\n",
            "  [0.        ]\n",
            "  [0.        ]\n",
            "  [0.        ]\n",
            "  [0.        ]\n",
            "  [0.        ]]\n",
            "\n",
            " [[0.        ]\n",
            "  [0.        ]\n",
            "  [0.        ]\n",
            "  [0.00392157]\n",
            "  [0.        ]\n",
            "  [0.        ]\n",
            "  [0.        ]\n",
            "  [0.19215687]\n",
            "  [0.53333336]\n",
            "  [0.85882354]\n",
            "  [0.84705883]\n",
            "  [0.89411765]\n",
            "  [0.9254902 ]\n",
            "  [1.        ]\n",
            "  [1.        ]\n",
            "  [1.        ]\n",
            "  [1.        ]\n",
            "  [0.8509804 ]\n",
            "  [0.84313726]\n",
            "  [0.99607843]\n",
            "  [0.90588236]\n",
            "  [0.627451  ]\n",
            "  [0.1764706 ]\n",
            "  [0.        ]\n",
            "  [0.        ]\n",
            "  [0.        ]\n",
            "  [0.        ]\n",
            "  [0.        ]]\n",
            "\n",
            " [[0.        ]\n",
            "  [0.        ]\n",
            "  [0.        ]\n",
            "  [0.        ]\n",
            "  [0.        ]\n",
            "  [0.05490196]\n",
            "  [0.6901961 ]\n",
            "  [0.87058824]\n",
            "  [0.8784314 ]\n",
            "  [0.83137256]\n",
            "  [0.79607844]\n",
            "  [0.7764706 ]\n",
            "  [0.76862746]\n",
            "  [0.78431374]\n",
            "  [0.84313726]\n",
            "  [0.8       ]\n",
            "  [0.7921569 ]\n",
            "  [0.7882353 ]\n",
            "  [0.7882353 ]\n",
            "  [0.7882353 ]\n",
            "  [0.81960785]\n",
            "  [0.85490197]\n",
            "  [0.8784314 ]\n",
            "  [0.6431373 ]\n",
            "  [0.        ]\n",
            "  [0.        ]\n",
            "  [0.        ]\n",
            "  [0.        ]]\n",
            "\n",
            " [[0.        ]\n",
            "  [0.        ]\n",
            "  [0.        ]\n",
            "  [0.        ]\n",
            "  [0.        ]\n",
            "  [0.7372549 ]\n",
            "  [0.85882354]\n",
            "  [0.78431374]\n",
            "  [0.7764706 ]\n",
            "  [0.7921569 ]\n",
            "  [0.7764706 ]\n",
            "  [0.78039217]\n",
            "  [0.78039217]\n",
            "  [0.7882353 ]\n",
            "  [0.76862746]\n",
            "  [0.7764706 ]\n",
            "  [0.7764706 ]\n",
            "  [0.78431374]\n",
            "  [0.78431374]\n",
            "  [0.78431374]\n",
            "  [0.78431374]\n",
            "  [0.7882353 ]\n",
            "  [0.78431374]\n",
            "  [0.88235295]\n",
            "  [0.16078432]\n",
            "  [0.        ]\n",
            "  [0.        ]\n",
            "  [0.        ]]\n",
            "\n",
            " [[0.        ]\n",
            "  [0.        ]\n",
            "  [0.        ]\n",
            "  [0.        ]\n",
            "  [0.2       ]\n",
            "  [0.85882354]\n",
            "  [0.78039217]\n",
            "  [0.79607844]\n",
            "  [0.79607844]\n",
            "  [0.83137256]\n",
            "  [0.93333334]\n",
            "  [0.972549  ]\n",
            "  [0.98039216]\n",
            "  [0.9607843 ]\n",
            "  [0.9764706 ]\n",
            "  [0.9647059 ]\n",
            "  [0.96862745]\n",
            "  [0.9882353 ]\n",
            "  [0.972549  ]\n",
            "  [0.92156863]\n",
            "  [0.8117647 ]\n",
            "  [0.79607844]\n",
            "  [0.79607844]\n",
            "  [0.87058824]\n",
            "  [0.54901963]\n",
            "  [0.        ]\n",
            "  [0.        ]\n",
            "  [0.        ]]\n",
            "\n",
            " [[0.        ]\n",
            "  [0.        ]\n",
            "  [0.        ]\n",
            "  [0.        ]\n",
            "  [0.45490196]\n",
            "  [0.8862745 ]\n",
            "  [0.80784315]\n",
            "  [0.8       ]\n",
            "  [0.8117647 ]\n",
            "  [0.8       ]\n",
            "  [0.39607844]\n",
            "  [0.29411766]\n",
            "  [0.18431373]\n",
            "  [0.28627452]\n",
            "  [0.1882353 ]\n",
            "  [0.19607843]\n",
            "  [0.1764706 ]\n",
            "  [0.2       ]\n",
            "  [0.24705882]\n",
            "  [0.44313726]\n",
            "  [0.87058824]\n",
            "  [0.7921569 ]\n",
            "  [0.80784315]\n",
            "  [0.8627451 ]\n",
            "  [0.8784314 ]\n",
            "  [0.        ]\n",
            "  [0.        ]\n",
            "  [0.        ]]\n",
            "\n",
            " [[0.        ]\n",
            "  [0.        ]\n",
            "  [0.        ]\n",
            "  [0.        ]\n",
            "  [0.78431374]\n",
            "  [0.87058824]\n",
            "  [0.81960785]\n",
            "  [0.79607844]\n",
            "  [0.84313726]\n",
            "  [0.78431374]\n",
            "  [0.        ]\n",
            "  [0.27450982]\n",
            "  [0.38431373]\n",
            "  [0.        ]\n",
            "  [0.40392157]\n",
            "  [0.23137255]\n",
            "  [0.26666668]\n",
            "  [0.2784314 ]\n",
            "  [0.19215687]\n",
            "  [0.        ]\n",
            "  [0.85882354]\n",
            "  [0.80784315]\n",
            "  [0.8392157 ]\n",
            "  [0.8235294 ]\n",
            "  [0.98039216]\n",
            "  [0.14901961]\n",
            "  [0.        ]\n",
            "  [0.        ]]\n",
            "\n",
            " [[0.        ]\n",
            "  [0.        ]\n",
            "  [0.        ]\n",
            "  [0.        ]\n",
            "  [0.96862745]\n",
            "  [0.85490197]\n",
            "  [0.83137256]\n",
            "  [0.8235294 ]\n",
            "  [0.84313726]\n",
            "  [0.8392157 ]\n",
            "  [0.        ]\n",
            "  [0.99607843]\n",
            "  [0.9529412 ]\n",
            "  [0.54509807]\n",
            "  [1.        ]\n",
            "  [0.68235296]\n",
            "  [0.9843137 ]\n",
            "  [1.        ]\n",
            "  [0.8039216 ]\n",
            "  [0.        ]\n",
            "  [0.84313726]\n",
            "  [0.8509804 ]\n",
            "  [0.8392157 ]\n",
            "  [0.8156863 ]\n",
            "  [0.8627451 ]\n",
            "  [0.37254903]\n",
            "  [0.        ]\n",
            "  [0.        ]]\n",
            "\n",
            " [[0.        ]\n",
            "  [0.        ]\n",
            "  [0.        ]\n",
            "  [0.1764706 ]\n",
            "  [0.8862745 ]\n",
            "  [0.8392157 ]\n",
            "  [0.8392157 ]\n",
            "  [0.84313726]\n",
            "  [0.8784314 ]\n",
            "  [0.8039216 ]\n",
            "  [0.        ]\n",
            "  [0.16470589]\n",
            "  [0.13725491]\n",
            "  [0.23529412]\n",
            "  [0.0627451 ]\n",
            "  [0.06666667]\n",
            "  [0.04705882]\n",
            "  [0.05098039]\n",
            "  [0.27450982]\n",
            "  [0.        ]\n",
            "  [0.7411765 ]\n",
            "  [0.84705883]\n",
            "  [0.83137256]\n",
            "  [0.80784315]\n",
            "  [0.83137256]\n",
            "  [0.6117647 ]\n",
            "  [0.        ]\n",
            "  [0.        ]]\n",
            "\n",
            " [[0.        ]\n",
            "  [0.        ]\n",
            "  [0.        ]\n",
            "  [0.6431373 ]\n",
            "  [0.92156863]\n",
            "  [0.8392157 ]\n",
            "  [0.827451  ]\n",
            "  [0.8627451 ]\n",
            "  [0.84705883]\n",
            "  [0.7882353 ]\n",
            "  [0.20392157]\n",
            "  [0.2784314 ]\n",
            "  [0.34901962]\n",
            "  [0.36862746]\n",
            "  [0.3254902 ]\n",
            "  [0.30588236]\n",
            "  [0.27450982]\n",
            "  [0.29803923]\n",
            "  [0.36078432]\n",
            "  [0.34117648]\n",
            "  [0.80784315]\n",
            "  [0.8117647 ]\n",
            "  [0.87058824]\n",
            "  [0.8352941 ]\n",
            "  [0.85882354]\n",
            "  [0.8156863 ]\n",
            "  [0.        ]\n",
            "  [0.        ]]\n",
            "\n",
            " [[0.        ]\n",
            "  [0.        ]\n",
            "  [0.        ]\n",
            "  [0.41568628]\n",
            "  [0.73333335]\n",
            "  [0.8745098 ]\n",
            "  [0.92941177]\n",
            "  [0.972549  ]\n",
            "  [0.827451  ]\n",
            "  [0.7764706 ]\n",
            "  [0.9882353 ]\n",
            "  [0.98039216]\n",
            "  [0.972549  ]\n",
            "  [0.9607843 ]\n",
            "  [0.972549  ]\n",
            "  [0.9882353 ]\n",
            "  [0.99215686]\n",
            "  [0.98039216]\n",
            "  [0.9882353 ]\n",
            "  [0.9372549 ]\n",
            "  [0.7882353 ]\n",
            "  [0.83137256]\n",
            "  [0.88235295]\n",
            "  [0.84313726]\n",
            "  [0.75686276]\n",
            "  [0.44313726]\n",
            "  [0.        ]\n",
            "  [0.        ]]\n",
            "\n",
            " [[0.        ]\n",
            "  [0.        ]\n",
            "  [0.        ]\n",
            "  [0.        ]\n",
            "  [0.        ]\n",
            "  [0.06666667]\n",
            "  [0.21176471]\n",
            "  [0.62352943]\n",
            "  [0.87058824]\n",
            "  [0.75686276]\n",
            "  [0.8156863 ]\n",
            "  [0.7529412 ]\n",
            "  [0.77254903]\n",
            "  [0.78431374]\n",
            "  [0.78431374]\n",
            "  [0.78431374]\n",
            "  [0.78431374]\n",
            "  [0.7882353 ]\n",
            "  [0.79607844]\n",
            "  [0.7647059 ]\n",
            "  [0.8235294 ]\n",
            "  [0.64705884]\n",
            "  [0.        ]\n",
            "  [0.        ]\n",
            "  [0.        ]\n",
            "  [0.        ]\n",
            "  [0.        ]\n",
            "  [0.        ]]\n",
            "\n",
            " [[0.        ]\n",
            "  [0.        ]\n",
            "  [0.        ]\n",
            "  [0.        ]\n",
            "  [0.        ]\n",
            "  [0.        ]\n",
            "  [0.        ]\n",
            "  [0.18431373]\n",
            "  [0.88235295]\n",
            "  [0.7529412 ]\n",
            "  [0.8392157 ]\n",
            "  [0.79607844]\n",
            "  [0.80784315]\n",
            "  [0.8       ]\n",
            "  [0.8       ]\n",
            "  [0.8039216 ]\n",
            "  [0.80784315]\n",
            "  [0.8       ]\n",
            "  [0.83137256]\n",
            "  [0.77254903]\n",
            "  [0.85490197]\n",
            "  [0.41960785]\n",
            "  [0.        ]\n",
            "  [0.        ]\n",
            "  [0.        ]\n",
            "  [0.        ]\n",
            "  [0.        ]\n",
            "  [0.        ]]\n",
            "\n",
            " [[0.        ]\n",
            "  [0.        ]\n",
            "  [0.        ]\n",
            "  [0.        ]\n",
            "  [0.00392157]\n",
            "  [0.02352941]\n",
            "  [0.        ]\n",
            "  [0.18039216]\n",
            "  [0.83137256]\n",
            "  [0.7647059 ]\n",
            "  [0.83137256]\n",
            "  [0.7921569 ]\n",
            "  [0.80784315]\n",
            "  [0.8039216 ]\n",
            "  [0.8       ]\n",
            "  [0.8039216 ]\n",
            "  [0.80784315]\n",
            "  [0.8       ]\n",
            "  [0.83137256]\n",
            "  [0.78431374]\n",
            "  [0.85490197]\n",
            "  [0.35686275]\n",
            "  [0.        ]\n",
            "  [0.01176471]\n",
            "  [0.00392157]\n",
            "  [0.        ]\n",
            "  [0.        ]\n",
            "  [0.        ]]\n",
            "\n",
            " [[0.        ]\n",
            "  [0.        ]\n",
            "  [0.        ]\n",
            "  [0.        ]\n",
            "  [0.        ]\n",
            "  [0.00392157]\n",
            "  [0.        ]\n",
            "  [0.04313726]\n",
            "  [0.77254903]\n",
            "  [0.78039217]\n",
            "  [0.8039216 ]\n",
            "  [0.7921569 ]\n",
            "  [0.8039216 ]\n",
            "  [0.80784315]\n",
            "  [0.8       ]\n",
            "  [0.8039216 ]\n",
            "  [0.8117647 ]\n",
            "  [0.8       ]\n",
            "  [0.8039216 ]\n",
            "  [0.8039216 ]\n",
            "  [0.85490197]\n",
            "  [0.3019608 ]\n",
            "  [0.        ]\n",
            "  [0.01960784]\n",
            "  [0.        ]\n",
            "  [0.        ]\n",
            "  [0.        ]\n",
            "  [0.        ]]\n",
            "\n",
            " [[0.        ]\n",
            "  [0.        ]\n",
            "  [0.        ]\n",
            "  [0.        ]\n",
            "  [0.        ]\n",
            "  [0.01176471]\n",
            "  [0.        ]\n",
            "  [0.00784314]\n",
            "  [0.7490196 ]\n",
            "  [0.7764706 ]\n",
            "  [0.7882353 ]\n",
            "  [0.8039216 ]\n",
            "  [0.80784315]\n",
            "  [0.8039216 ]\n",
            "  [0.8039216 ]\n",
            "  [0.80784315]\n",
            "  [0.81960785]\n",
            "  [0.80784315]\n",
            "  [0.78039217]\n",
            "  [0.81960785]\n",
            "  [0.85882354]\n",
            "  [0.2901961 ]\n",
            "  [0.        ]\n",
            "  [0.01960784]\n",
            "  [0.        ]\n",
            "  [0.        ]\n",
            "  [0.        ]\n",
            "  [0.        ]]\n",
            "\n",
            " [[0.        ]\n",
            "  [0.        ]\n",
            "  [0.        ]\n",
            "  [0.        ]\n",
            "  [0.        ]\n",
            "  [0.00784314]\n",
            "  [0.        ]\n",
            "  [0.        ]\n",
            "  [0.7372549 ]\n",
            "  [0.77254903]\n",
            "  [0.78431374]\n",
            "  [0.8117647 ]\n",
            "  [0.8117647 ]\n",
            "  [0.8       ]\n",
            "  [0.8117647 ]\n",
            "  [0.8117647 ]\n",
            "  [0.8235294 ]\n",
            "  [0.8156863 ]\n",
            "  [0.7764706 ]\n",
            "  [0.8117647 ]\n",
            "  [0.8666667 ]\n",
            "  [0.28235295]\n",
            "  [0.        ]\n",
            "  [0.01568628]\n",
            "  [0.        ]\n",
            "  [0.        ]\n",
            "  [0.        ]\n",
            "  [0.        ]]\n",
            "\n",
            " [[0.        ]\n",
            "  [0.        ]\n",
            "  [0.        ]\n",
            "  [0.        ]\n",
            "  [0.        ]\n",
            "  [0.00784314]\n",
            "  [0.        ]\n",
            "  [0.        ]\n",
            "  [0.84313726]\n",
            "  [0.7764706 ]\n",
            "  [0.79607844]\n",
            "  [0.80784315]\n",
            "  [0.8156863 ]\n",
            "  [0.8039216 ]\n",
            "  [0.8117647 ]\n",
            "  [0.8117647 ]\n",
            "  [0.8235294 ]\n",
            "  [0.8156863 ]\n",
            "  [0.78431374]\n",
            "  [0.7921569 ]\n",
            "  [0.87058824]\n",
            "  [0.29411766]\n",
            "  [0.        ]\n",
            "  [0.01568628]\n",
            "  [0.        ]\n",
            "  [0.        ]\n",
            "  [0.        ]\n",
            "  [0.        ]]\n",
            "\n",
            " [[0.        ]\n",
            "  [0.        ]\n",
            "  [0.        ]\n",
            "  [0.        ]\n",
            "  [0.        ]\n",
            "  [0.00392157]\n",
            "  [0.        ]\n",
            "  [0.        ]\n",
            "  [0.83137256]\n",
            "  [0.7764706 ]\n",
            "  [0.81960785]\n",
            "  [0.80784315]\n",
            "  [0.81960785]\n",
            "  [0.80784315]\n",
            "  [0.8156863 ]\n",
            "  [0.8117647 ]\n",
            "  [0.827451  ]\n",
            "  [0.80784315]\n",
            "  [0.8039216 ]\n",
            "  [0.7764706 ]\n",
            "  [0.8666667 ]\n",
            "  [0.3137255 ]\n",
            "  [0.        ]\n",
            "  [0.01176471]\n",
            "  [0.        ]\n",
            "  [0.        ]\n",
            "  [0.        ]\n",
            "  [0.        ]]\n",
            "\n",
            " [[0.        ]\n",
            "  [0.        ]\n",
            "  [0.        ]\n",
            "  [0.        ]\n",
            "  [0.        ]\n",
            "  [0.00392157]\n",
            "  [0.        ]\n",
            "  [0.        ]\n",
            "  [0.8       ]\n",
            "  [0.7882353 ]\n",
            "  [0.8039216 ]\n",
            "  [0.8156863 ]\n",
            "  [0.8117647 ]\n",
            "  [0.8039216 ]\n",
            "  [0.827451  ]\n",
            "  [0.8039216 ]\n",
            "  [0.8235294 ]\n",
            "  [0.8235294 ]\n",
            "  [0.81960785]\n",
            "  [0.7647059 ]\n",
            "  [0.8666667 ]\n",
            "  [0.3764706 ]\n",
            "  [0.        ]\n",
            "  [0.01176471]\n",
            "  [0.        ]\n",
            "  [0.        ]\n",
            "  [0.        ]\n",
            "  [0.        ]]\n",
            "\n",
            " [[0.        ]\n",
            "  [0.        ]\n",
            "  [0.        ]\n",
            "  [0.        ]\n",
            "  [0.        ]\n",
            "  [0.00392157]\n",
            "  [0.        ]\n",
            "  [0.        ]\n",
            "  [0.7921569 ]\n",
            "  [0.7882353 ]\n",
            "  [0.8039216 ]\n",
            "  [0.81960785]\n",
            "  [0.8117647 ]\n",
            "  [0.8039216 ]\n",
            "  [0.8352941 ]\n",
            "  [0.80784315]\n",
            "  [0.8235294 ]\n",
            "  [0.81960785]\n",
            "  [0.8235294 ]\n",
            "  [0.7607843 ]\n",
            "  [0.8509804 ]\n",
            "  [0.4117647 ]\n",
            "  [0.        ]\n",
            "  [0.00784314]\n",
            "  [0.        ]\n",
            "  [0.        ]\n",
            "  [0.        ]\n",
            "  [0.        ]]\n",
            "\n",
            " [[0.        ]\n",
            "  [0.        ]\n",
            "  [0.        ]\n",
            "  [0.        ]\n",
            "  [0.        ]\n",
            "  [0.00392157]\n",
            "  [0.        ]\n",
            "  [0.        ]\n",
            "  [0.8       ]\n",
            "  [0.8       ]\n",
            "  [0.8039216 ]\n",
            "  [0.8156863 ]\n",
            "  [0.8117647 ]\n",
            "  [0.8039216 ]\n",
            "  [0.84313726]\n",
            "  [0.8117647 ]\n",
            "  [0.8235294 ]\n",
            "  [0.8156863 ]\n",
            "  [0.827451  ]\n",
            "  [0.75686276]\n",
            "  [0.8352941 ]\n",
            "  [0.4509804 ]\n",
            "  [0.        ]\n",
            "  [0.00784314]\n",
            "  [0.        ]\n",
            "  [0.        ]\n",
            "  [0.        ]\n",
            "  [0.        ]]\n",
            "\n",
            " [[0.        ]\n",
            "  [0.        ]\n",
            "  [0.        ]\n",
            "  [0.        ]\n",
            "  [0.        ]\n",
            "  [0.        ]\n",
            "  [0.        ]\n",
            "  [0.        ]\n",
            "  [0.8       ]\n",
            "  [0.8117647 ]\n",
            "  [0.8117647 ]\n",
            "  [0.8156863 ]\n",
            "  [0.80784315]\n",
            "  [0.80784315]\n",
            "  [0.84313726]\n",
            "  [0.8235294 ]\n",
            "  [0.8235294 ]\n",
            "  [0.8117647 ]\n",
            "  [0.83137256]\n",
            "  [0.7647059 ]\n",
            "  [0.8235294 ]\n",
            "  [0.4627451 ]\n",
            "  [0.        ]\n",
            "  [0.00784314]\n",
            "  [0.        ]\n",
            "  [0.        ]\n",
            "  [0.        ]\n",
            "  [0.        ]]\n",
            "\n",
            " [[0.        ]\n",
            "  [0.        ]\n",
            "  [0.        ]\n",
            "  [0.        ]\n",
            "  [0.        ]\n",
            "  [0.00392157]\n",
            "  [0.        ]\n",
            "  [0.        ]\n",
            "  [0.7764706 ]\n",
            "  [0.8156863 ]\n",
            "  [0.8156863 ]\n",
            "  [0.8156863 ]\n",
            "  [0.8       ]\n",
            "  [0.8117647 ]\n",
            "  [0.83137256]\n",
            "  [0.83137256]\n",
            "  [0.8235294 ]\n",
            "  [0.8117647 ]\n",
            "  [0.827451  ]\n",
            "  [0.76862746]\n",
            "  [0.8117647 ]\n",
            "  [0.4745098 ]\n",
            "  [0.        ]\n",
            "  [0.00392157]\n",
            "  [0.        ]\n",
            "  [0.        ]\n",
            "  [0.        ]\n",
            "  [0.        ]]\n",
            "\n",
            " [[0.        ]\n",
            "  [0.        ]\n",
            "  [0.        ]\n",
            "  [0.        ]\n",
            "  [0.        ]\n",
            "  [0.00392157]\n",
            "  [0.        ]\n",
            "  [0.        ]\n",
            "  [0.7764706 ]\n",
            "  [0.8235294 ]\n",
            "  [0.8117647 ]\n",
            "  [0.8156863 ]\n",
            "  [0.80784315]\n",
            "  [0.81960785]\n",
            "  [0.8352941 ]\n",
            "  [0.83137256]\n",
            "  [0.827451  ]\n",
            "  [0.8117647 ]\n",
            "  [0.8235294 ]\n",
            "  [0.77254903]\n",
            "  [0.8117647 ]\n",
            "  [0.4862745 ]\n",
            "  [0.        ]\n",
            "  [0.00392157]\n",
            "  [0.        ]\n",
            "  [0.        ]\n",
            "  [0.        ]\n",
            "  [0.        ]]\n",
            "\n",
            " [[0.        ]\n",
            "  [0.        ]\n",
            "  [0.        ]\n",
            "  [0.        ]\n",
            "  [0.        ]\n",
            "  [0.        ]\n",
            "  [0.        ]\n",
            "  [0.        ]\n",
            "  [0.6745098 ]\n",
            "  [0.8235294 ]\n",
            "  [0.79607844]\n",
            "  [0.7882353 ]\n",
            "  [0.78039217]\n",
            "  [0.8       ]\n",
            "  [0.8117647 ]\n",
            "  [0.8039216 ]\n",
            "  [0.8       ]\n",
            "  [0.7882353 ]\n",
            "  [0.8039216 ]\n",
            "  [0.77254903]\n",
            "  [0.80784315]\n",
            "  [0.49803922]\n",
            "  [0.        ]\n",
            "  [0.        ]\n",
            "  [0.        ]\n",
            "  [0.        ]\n",
            "  [0.        ]\n",
            "  [0.        ]]\n",
            "\n",
            " [[0.        ]\n",
            "  [0.        ]\n",
            "  [0.        ]\n",
            "  [0.        ]\n",
            "  [0.        ]\n",
            "  [0.        ]\n",
            "  [0.        ]\n",
            "  [0.        ]\n",
            "  [0.7372549 ]\n",
            "  [0.8666667 ]\n",
            "  [0.8392157 ]\n",
            "  [0.91764706]\n",
            "  [0.9254902 ]\n",
            "  [0.93333334]\n",
            "  [0.95686275]\n",
            "  [0.95686275]\n",
            "  [0.95686275]\n",
            "  [0.9411765 ]\n",
            "  [0.9529412 ]\n",
            "  [0.8392157 ]\n",
            "  [0.8784314 ]\n",
            "  [0.63529414]\n",
            "  [0.        ]\n",
            "  [0.00784314]\n",
            "  [0.        ]\n",
            "  [0.        ]\n",
            "  [0.        ]\n",
            "  [0.        ]]\n",
            "\n",
            " [[0.        ]\n",
            "  [0.        ]\n",
            "  [0.        ]\n",
            "  [0.        ]\n",
            "  [0.        ]\n",
            "  [0.00392157]\n",
            "  [0.        ]\n",
            "  [0.        ]\n",
            "  [0.54509807]\n",
            "  [0.57254905]\n",
            "  [0.50980395]\n",
            "  [0.5294118 ]\n",
            "  [0.5294118 ]\n",
            "  [0.5372549 ]\n",
            "  [0.49019608]\n",
            "  [0.4862745 ]\n",
            "  [0.49019608]\n",
            "  [0.4745098 ]\n",
            "  [0.46666667]\n",
            "  [0.44705883]\n",
            "  [0.50980395]\n",
            "  [0.29803923]\n",
            "  [0.        ]\n",
            "  [0.        ]\n",
            "  [0.        ]\n",
            "  [0.        ]\n",
            "  [0.        ]\n",
            "  [0.        ]]]\n"
          ],
          "name": "stdout"
        }
      ]
    },
    {
      "cell_type": "code",
      "metadata": {
        "id": "85g7Esw_Ic3x",
        "colab_type": "code",
        "colab": {}
      },
      "source": [
        "import keras\n",
        "from keras.models import Sequential\n",
        "from keras.layers import Conv2D, MaxPooling2D, Dense, Flatten, Dropout\n",
        "from keras.optimizers import Adam\n",
        "from keras.callbacks import TensorBoard\n"
      ],
      "execution_count": 0,
      "outputs": []
    },
    {
      "cell_type": "code",
      "metadata": {
        "id": "RjuPLlIyI01f",
        "colab_type": "code",
        "colab": {}
      },
      "source": [
        "cnn_model = Sequential()\n",
        "\n",
        "# Try 32 fliters first then 64\n",
        "cnn_model.add(Conv2D(32, (6, 6), input_shape = (28,28,1), activation='relu',strides=(1, 1),padding=\"same\"))\n",
        "cnn_model.add(MaxPooling2D(pool_size = (2, 2)))\n",
        "cnn_model.add(Dropout(0.2))\n",
        "\n",
        "cnn_model.add(Conv2D(64, (7, 7), input_shape = (28,28,1), activation='relu',strides=(1, 1),padding=\"same\"))\n",
        "cnn_model.add(MaxPooling2D(pool_size = (2, 2)))\n",
        "cnn_model.add(Dropout(0.2))\n",
        "\n",
        "cnn_model.add(Conv2D(128, (8, 8), input_shape = (28,28,1), activation='relu',strides=(1, 1),padding=\"same\"))\n",
        "cnn_model.add(MaxPooling2D(pool_size = (2, 2)))\n",
        "cnn_model.add(Dropout(0.35))\n",
        "\n",
        "\n",
        "# cnn_model.add(Conv2D(32,3, 3, activation='relu'))\n",
        "# cnn_model.add(MaxPooling2D(pool_size = (2, 2)))\n",
        "\n",
        "cnn_model.add(Flatten())\n",
        "cnn_model.add(Dense(units = 4096, activation = 'relu'))\n",
        "cnn_model.add(Dropout(0.5))\n",
        "cnn_model.add(Dense(units = 5, activation = 'softmax'))\n",
        "\n"
      ],
      "execution_count": 0,
      "outputs": []
    },
    {
      "cell_type": "code",
      "metadata": {
        "id": "5m3WEzeGJKiS",
        "colab_type": "code",
        "colab": {}
      },
      "source": [
        ""
      ],
      "execution_count": 0,
      "outputs": []
    },
    {
      "cell_type": "code",
      "metadata": {
        "id": "KeHd3kNgJNHV",
        "colab_type": "code",
        "colab": {}
      },
      "source": [
        "# Compile the model\n",
        "# model.compile(optimizer = optimizer , loss = \"categorical_crossentropy\", metrics=[\"accuracy\"])\n",
        "cnn_model.compile(loss ='sparse_categorical_crossentropy', optimizer=Adam(lr = 0.00001),metrics =['accuracy'])\n",
        "\n",
        "import time\n",
        "time_start = time.time()\n",
        "epochs = 551\n",
        "history = cnn_model.fit(X_train, y_train, batch_size = 512, epochs = epochs,verbose = 1)\n",
        "                        # verbose = 1, validation_data = (X_validate, y_validate))\n",
        "time_end = time.time()\n",
        "print(\"time taken for training CNN for all samples is  {0}\".format(time_end -time_start))"
      ],
      "execution_count": 0,
      "outputs": []
    },
    {
      "cell_type": "code",
      "metadata": {
        "id": "gKrzhb8kJSFU",
        "colab_type": "code",
        "colab": {}
      },
      "source": [
        "evaluation = cnn_model.evaluate(X_test, y_test)\n",
        "print(f'Test Accuracy : {evaluation[1]:.3f}')\n"
      ],
      "execution_count": 0,
      "outputs": []
    },
    {
      "cell_type": "code",
      "metadata": {
        "id": "qCGhlOh5bP67",
        "colab_type": "code",
        "outputId": "a86542c4-7122-4ba9-b56d-7104a394cd43",
        "colab": {
          "base_uri": "https://localhost:8080/",
          "height": 136
        }
      },
      "source": [
        "predictions = cnn_model.predict_classes(X_test)\n",
        "f1_s = f1_score(y_test, predictions,average='macro')\n",
        "# f1score.append(f1_s)\n",
        "print(\"F1 score when lr = {0} and epochs = {1} is {2}\".format(0.00001,epochs,f1_s))\n",
        "cnnpred = cnn_model.predict_proba(X_test)\n",
        "lg_loss = log_loss(y_test,cnnpred) \n",
        "# logloss.append(\"Logarithm loss when depth =\"+ str(x) + \" and trees = \" + str(y) + \" is : \" + str(lg_loss))\n",
        "print(\"Logarithm loss when lr = {0} and epochs = {1} is {2}\".format(0.00001,epochs,lg_loss))\n",
        "print(confusion_matrix(y_test,predictions))"
      ],
      "execution_count": 0,
      "outputs": [
        {
          "output_type": "stream",
          "text": [
            "F1 score when lr = 1e-05 and epochs = 551 is 0.884\n",
            "Logarithm loss when lr = 1e-05 and epochs = 551 is 0.28420143264096065\n",
            "[[574  12   4   0   0]\n",
            " [ 53 547  17   6   2]\n",
            " [  3  55 479  16   6]\n",
            " [  0   7  76 503  16]\n",
            " [  1   0   9  65 549]]\n"
          ],
          "name": "stdout"
        }
      ]
    },
    {
      "cell_type": "markdown",
      "metadata": {
        "id": "zYwEcc6WyEZz",
        "colab_type": "text"
      },
      "source": [
        "600/600 [==============================] - 0s 175us/step\n",
        "Test Accuracy : 0.925"
      ]
    },
    {
      "cell_type": "code",
      "metadata": {
        "id": "JOLbs6lqJc5F",
        "colab_type": "code",
        "outputId": "097ef4aa-440f-4084-80b2-539c05209a12",
        "colab": {
          "base_uri": "https://localhost:8080/",
          "height": 545
        }
      },
      "source": [
        "import matplotlib.pyplot as plt\n",
        "%matplotlib inline\n",
        "accuracy = history.history['accuracy']\n",
        "val_accuracy = history.history['val_accuracy']\n",
        "loss = history.history['loss']\n",
        "val_loss = history.history['val_loss']\n",
        "epochs = range(len(accuracy))\n",
        "plt.plot(epochs, accuracy, 'bo', label='Training accuracy',color='orange')\n",
        "plt.plot(epochs, val_accuracy, 'b', label='Validation accuracy',)\n",
        "plt.title('Training and validation accuracy')\n",
        "plt.legend()\n",
        "plt.figure()\n",
        "plt.plot(epochs, loss, 'bo', label='Training loss',color='orange')\n",
        "plt.plot(epochs, val_loss, 'b', label='Validation loss')\n",
        "plt.title('Training and validation loss')\n",
        "plt.legend()\n",
        "plt.show()"
      ],
      "execution_count": 0,
      "outputs": [
        {
          "output_type": "display_data",
          "data": {
            "image/png": "[encoded data removed]",
            "text/plain": [
              "<Figure size 432x288 with 1 Axes>"
            ]
          },
          "metadata": {
            "tags": [],
            "needs_background": "light"
          }
        },
        {
          "output_type": "display_data",
          "data": {
            "image/png": "[encoded data removed]",
            "text/plain": [
              "<Figure size 432x288 with 1 Axes>"
            ]
          },
          "metadata": {
            "tags": [],
            "needs_background": "light"
          }
        }
      ]
    },
    {
      "cell_type": "code",
      "metadata": {
        "id": "4zG407XMok-8",
        "colab_type": "code",
        "colab": {}
      },
      "source": [
        ""
      ],
      "execution_count": 0,
      "outputs": []
    },
    {
      "cell_type": "code",
      "metadata": {
        "colab_type": "code",
        "id": "E-5V_2CrJm6d",
        "colab": {}
      },
      "source": [
        "predicted_classes = cnn_model.predict_classes(fashion_test)\n"
      ],
      "execution_count": 0,
      "outputs": []
    },
    {
      "cell_type": "code",
      "metadata": {
        "id": "F7FSeLTJCHan",
        "colab_type": "code",
        "outputId": "f587f0bd-0146-4748-b920-7a96c7577c14",
        "colab": {
          "base_uri": "https://localhost:8080/",
          "height": 34
        }
      },
      "source": [
        "predicted_classes.shape\n",
        "print(predicted_classes)\n",
        "# np.argmax(predicted_classes[6])"
      ],
      "execution_count": 0,
      "outputs": [
        {
          "output_type": "stream",
          "text": [
            "[3 4 1 ... 3 2 2]\n"
          ],
          "name": "stdout"
        }
      ]
    },
    {
      "cell_type": "code",
      "metadata": {
        "id": "0fFAq7IcCKyQ",
        "colab_type": "code",
        "colab": {}
      },
      "source": [
        "my_submission = pd.DataFrame({'Id': fashion_test_df.Id, 'Label': predicted_classes})\n",
        "# # # you could use any filename. We choose submission here\n",
        "my_submission.to_csv('CNN_submission very big filter', index=False)"
      ],
      "execution_count": 0,
      "outputs": []
    },
    {
      "cell_type": "markdown",
      "metadata": {
        "id": "RAe5mbb-WSna",
        "colab_type": "text"
      },
      "source": [
        "# **ResNet Part**"
      ]
    },
    {
      "cell_type": "code",
      "metadata": {
        "id": "y3xUD_vO6TYX",
        "colab_type": "code",
        "outputId": "8a06afb1-0b74-407c-d595-a21abfe31da2",
        "colab": {
          "base_uri": "https://localhost:8080/",
          "height": 34
        }
      },
      "source": [
        "from __future__ import print_function\n",
        "import keras\n",
        "from keras.layers import Dense, Conv2D, BatchNormalization, Activation\n",
        "from keras.layers import MaxPooling2D, AveragePooling2D, Input, Flatten\n",
        "from keras.optimizers import Adam\n",
        "from keras.callbacks import ModelCheckpoint, ReduceLROnPlateau\n",
        "from keras.preprocessing.image import ImageDataGenerator\n",
        "from keras.regularizers import l2\n",
        "from keras import backend as K\n",
        "from keras.models import Model\n",
        "import numpy as np\n",
        "import os\n",
        "import pandas as pd\n",
        "import matplotlib.pyplot as plt\n",
        "from sklearn.model_selection import train_test_split\n",
        "import tensorflow as tf\n",
        "%matplotlib inline\n",
        "from sklearn.metrics import f1_score\n",
        "from sklearn.metrics import confusion_matrix\n",
        "from sklearn.metrics import log_loss"
      ],
      "execution_count": 0,
      "outputs": [
        {
          "output_type": "stream",
          "text": [
            "Using TensorFlow backend.\n"
          ],
          "name": "stderr"
        }
      ]
    },
    {
      "cell_type": "code",
      "metadata": {
        "id": "djExntmJ6c_E",
        "colab_type": "code",
        "colab": {}
      },
      "source": [
        "from google.colab import files\n",
        "import io\n",
        "uploaded = files.upload()\n",
        "\n",
        "!pip install -q kaggle\n",
        "\n",
        "# Let's make sure the kaggle.json file is present.\n",
        "!ls -lha kaggle.json\n",
        "\n",
        "# Next, install the Kaggle API client.\n",
        "!pip install -q kaggle\n",
        "\n",
        "# The Kaggle API client expects this file to be in ~/.kaggle,\n",
        "# so move it there.\n",
        "!mkdir -p ~/.kaggle\n",
        "!cp kaggle.json ~/.kaggle/\n",
        "\n",
        "# This permissions change avoids a warning on Kaggle tool startup.\n",
        "!chmod 600 ~/.kaggle/kaggle.json\n",
        "\n",
        "!kaggle competitions download -c ece-657a-w20-asg3-part-1\n",
        "!unzip train.csv.zip\n",
        "!unzip testX.csv.zip"
      ],
      "execution_count": 0,
      "outputs": []
    },
    {
      "cell_type": "code",
      "metadata": {
        "id": "5lsDJZyt60BA",
        "colab_type": "code",
        "colab": {}
      },
      "source": [
        "data_raw = pd.read_csv('train.csv')\n",
        "# data_raw.head()\n",
        "\n",
        "# selecting only required number of observations\n",
        "data_sample = data_raw.iloc[0:60000]\n",
        "data = data_sample.iloc[:,2:]\n",
        "labels = data_sample.iloc[:,1]\n",
        "# print(data.shape)\n",
        "# print(data.head())\n",
        "# print(labels.shape)\n",
        "\n",
        "testX = pd.read_csv('testX.csv')\n",
        "testX.head()\n",
        "test = testX.iloc[:,1:]\n",
        "# print(test.shape)\n",
        "# test.head()"
      ],
      "execution_count": 0,
      "outputs": []
    },
    {
      "cell_type": "code",
      "metadata": {
        "id": "5wOFp0207Awv",
        "colab_type": "code",
        "outputId": "aeb0f543-9eaf-4ee6-adc5-5cb5a9577d69",
        "colab": {
          "base_uri": "https://localhost:8080/",
          "height": 51
        }
      },
      "source": [
        "# This Python 3 environment comes with many helpful analytics libraries installed\n",
        "# It is defined by the kaggle/python docker image: https://github.com/kaggle/docker-python\n",
        "# For example, here's several helpful packages to load in \n",
        "\n",
        "from subprocess import check_output\n",
        "# print(check_output([\"ls\", \"../input\"]).decode(\"utf8\"))\n",
        "train_data = pd.read_csv('train.csv')\n",
        "test_data = pd.read_csv('testX.csv')\n",
        "\n",
        "train = train_data.iloc[:,2:].values\n",
        "Y_train = train_data.iloc[:,1]\n",
        "\n",
        "X_train,X_test,Y_train,Y_test=train_test_split(train[0:60000],labels[0:60000],test_size=0.01,random_state=42)\n",
        "\n",
        "\n",
        "\n",
        "X_train,X_val,Y_train,Y_val=train_test_split(X_train,Y_train,test_size=0.002,random_state=42)\n",
        "\n",
        "\n",
        "test = test_data.iloc[:,1:]\n",
        "# Y_test = test_data.label.values\n",
        "\n",
        "print(X_test.shape, X_train.shape,X_val.shape)\n",
        "print(X_test.shape, X_train.shape,X_val.shape)\n",
        "# Input data files are available in the \"../input/\" directory.\n",
        "# For example, running this (by clicking run or pressing Shift+Enter) will list the files in the input directory"
      ],
      "execution_count": 0,
      "outputs": [
        {
          "output_type": "stream",
          "text": [
            "(600, 784) (59281, 784) (119, 784)\n",
            "(600, 784) (59281, 784) (119, 784)\n"
          ],
          "name": "stdout"
        }
      ]
    },
    {
      "cell_type": "code",
      "metadata": {
        "id": "q6iWWXbS7h0B",
        "colab_type": "code",
        "colab": {}
      },
      "source": [
        "#Defining constants\n",
        "epochs = 25\n",
        "batch_size = 1000\n",
        "data_augmentation = False\n",
        "img_size = 28\n",
        "\n",
        "num_classes = 5\n",
        "num_filters = 64\n",
        "num_blocks = 4\n",
        "num_sub_blocks = 2\n",
        "use_max_pool = False"
      ],
      "execution_count": 0,
      "outputs": []
    },
    {
      "cell_type": "code",
      "metadata": {
        "id": "_wIhrzsz7wdO",
        "colab_type": "code",
        "outputId": "1d8e3339-0495-4b77-e970-73f3a9620f3e",
        "colab": {
          "base_uri": "https://localhost:8080/",
          "height": 85
        }
      },
      "source": [
        "x_train = X_train.reshape(X_train.shape[0],img_size,img_size,1)\n",
        "x_val = X_val.reshape(X_val.shape[0],img_size,img_size,1)\n",
        "x_test = X_test.reshape(X_test.shape[0],img_size,img_size,1)\n",
        "test = np.array(test)\n",
        "test = test.reshape(test.shape[0],img_size,img_size,1)\n",
        "input_size = (img_size, img_size,1)\n",
        "# Normalize data.\n",
        "x_train = x_train.astype('float32') / 255\n",
        "x_val = x_val.astype('float32') / 255\n",
        "x_test = x_test.astype('float32') / 255\n",
        "test = np.array(test)\n",
        "test = test.reshape(test.shape[0],img_size,img_size,1)\n",
        "test = test.astype('float32')/255\n",
        "print('x_train shape:', x_train.shape)\n",
        "print(x_train.shape[0], 'train samples')\n",
        "print(x_test.shape[0], 'test samples')\n",
        "print('Y_train shape:', Y_train.shape)"
      ],
      "execution_count": 0,
      "outputs": [
        {
          "output_type": "stream",
          "text": [
            "x_train shape: (59281, 28, 28, 1)\n",
            "59281 train samples\n",
            "600 test samples\n",
            "Y_train shape: (59281,)\n"
          ],
          "name": "stdout"
        }
      ]
    },
    {
      "cell_type": "code",
      "metadata": {
        "id": "_F8rWMiV8mg3",
        "colab_type": "code",
        "colab": {}
      },
      "source": [
        "# Converting labels to one-hot vectors\n",
        "y_train = keras.utils.to_categorical(Y_train, num_classes)\n",
        "y_val = keras.utils.to_categorical(Y_val,num_classes)\n",
        "y_test = keras.utils.to_categorical(Y_test,num_classes)"
      ],
      "execution_count": 0,
      "outputs": []
    },
    {
      "cell_type": "code",
      "metadata": {
        "id": "sP4ex9bJEayM",
        "colab_type": "code",
        "colab": {}
      },
      "source": [
        "# gpu_options = tf.GPUOptions(allow_growth=True)\n",
        "# session = tf.InteractiveSession(config=tf.ConfigProto(gpu_options=gpu_options))"
      ],
      "execution_count": 0,
      "outputs": []
    },
    {
      "cell_type": "code",
      "metadata": {
        "id": "P87Yd4NR8qS5",
        "colab_type": "code",
        "outputId": "d871d6ad-f864-4543-c22c-66daa1c781e4",
        "colab": {
          "base_uri": "https://localhost:8080/",
          "height": 1000
        }
      },
      "source": [
        "#Creating model based on ResNet published archietecture\n",
        "inputs = Input(shape=input_size)\n",
        "x = Conv2D(num_filters, padding='same', \n",
        "           kernel_initializer='he_normal', \n",
        "           kernel_size=7, strides=2,\n",
        "           kernel_regularizer=l2(1e-4))(inputs)\n",
        "x = BatchNormalization()(x)\n",
        "x = Activation('relu')(x)\n",
        "\n",
        "#Check by applying max pooling later (setting it false as size of image is small i.e. 28x28)\n",
        "if use_max_pool:\n",
        "    x = MaxPooling2D(pool_size=3,padding='same', strides=2)(x)\n",
        "    num_blocks =3\n",
        "#Creating Conv base stack \n",
        "\n",
        "# Instantiate convolutional base (stack of blocks).\n",
        "for i in range(num_blocks):\n",
        "    for j in range(num_sub_blocks):\n",
        "        strides = 1\n",
        "        is_first_layer_but_not_first_block = j == 0 and i > 0\n",
        "        if is_first_layer_but_not_first_block:\n",
        "            strides = 2\n",
        "        #Creating residual mapping using y\n",
        "        y = Conv2D(num_filters,kernel_size=3,padding='same',strides=strides,\n",
        "                   kernel_initializer='he_normal',kernel_regularizer=l2(1e-4))(x)\n",
        "        y = BatchNormalization()(y)\n",
        "        y = Activation('relu')(y)\n",
        "        y = Conv2D(num_filters,kernel_size=3,padding='same',\n",
        "                   kernel_initializer='he_normal',kernel_regularizer=l2(1e-4))(y)\n",
        "        y = BatchNormalization()(y)\n",
        "        if is_first_layer_but_not_first_block:\n",
        "            x = Conv2D(num_filters,kernel_size=1,padding='same',strides=2,\n",
        "                       kernel_initializer='he_normal',kernel_regularizer=l2(1e-4))(x)\n",
        "        #Adding back residual mapping\n",
        "        x = keras.layers.add([x, y])\n",
        "        x = Activation('relu')(x)\n",
        "\n",
        "    num_filters = 2 * num_filters\n",
        "\n",
        "# Add classifier on top.\n",
        "x = AveragePooling2D()(x)\n",
        "y = Flatten()(x)\n",
        "outputs = Dense(num_classes,activation='softmax',kernel_initializer='he_normal')(y)\n",
        "\n",
        "# Instantiate and compile model.\n",
        "model = Model(inputs=inputs, outputs=outputs)\n",
        "model.compile(loss='categorical_crossentropy',optimizer=Adam(lr=0.00001),metrics=['accuracy'])\n",
        "model.summary()"
      ],
      "execution_count": 0,
      "outputs": [
        {
          "output_type": "stream",
          "text": [
            "Model: \"model_3\"\n",
            "__________________________________________________________________________________________________\n",
            "Layer (type)                    Output Shape         Param #     Connected to                     \n",
            "==================================================================================================\n",
            "input_3 (InputLayer)            (None, 28, 28, 1)    0                                            \n",
            "__________________________________________________________________________________________________\n",
            "conv2d_41 (Conv2D)              (None, 14, 14, 64)   3200        input_3[0][0]                    \n",
            "__________________________________________________________________________________________________\n",
            "batch_normalization_35 (BatchNo (None, 14, 14, 64)   256         conv2d_41[0][0]                  \n",
            "__________________________________________________________________________________________________\n",
            "activation_35 (Activation)      (None, 14, 14, 64)   0           batch_normalization_35[0][0]     \n",
            "__________________________________________________________________________________________________\n",
            "conv2d_42 (Conv2D)              (None, 14, 14, 64)   36928       activation_35[0][0]              \n",
            "__________________________________________________________________________________________________\n",
            "batch_normalization_36 (BatchNo (None, 14, 14, 64)   256         conv2d_42[0][0]                  \n",
            "__________________________________________________________________________________________________\n",
            "activation_36 (Activation)      (None, 14, 14, 64)   0           batch_normalization_36[0][0]     \n",
            "__________________________________________________________________________________________________\n",
            "conv2d_43 (Conv2D)              (None, 14, 14, 64)   36928       activation_36[0][0]              \n",
            "__________________________________________________________________________________________________\n",
            "batch_normalization_37 (BatchNo (None, 14, 14, 64)   256         conv2d_43[0][0]                  \n",
            "__________________________________________________________________________________________________\n",
            "add_17 (Add)                    (None, 14, 14, 64)   0           activation_35[0][0]              \n",
            "                                                                 batch_normalization_37[0][0]     \n",
            "__________________________________________________________________________________________________\n",
            "activation_37 (Activation)      (None, 14, 14, 64)   0           add_17[0][0]                     \n",
            "__________________________________________________________________________________________________\n",
            "conv2d_44 (Conv2D)              (None, 14, 14, 64)   36928       activation_37[0][0]              \n",
            "__________________________________________________________________________________________________\n",
            "batch_normalization_38 (BatchNo (None, 14, 14, 64)   256         conv2d_44[0][0]                  \n",
            "__________________________________________________________________________________________________\n",
            "activation_38 (Activation)      (None, 14, 14, 64)   0           batch_normalization_38[0][0]     \n",
            "__________________________________________________________________________________________________\n",
            "conv2d_45 (Conv2D)              (None, 14, 14, 64)   36928       activation_38[0][0]              \n",
            "__________________________________________________________________________________________________\n",
            "batch_normalization_39 (BatchNo (None, 14, 14, 64)   256         conv2d_45[0][0]                  \n",
            "__________________________________________________________________________________________________\n",
            "add_18 (Add)                    (None, 14, 14, 64)   0           activation_37[0][0]              \n",
            "                                                                 batch_normalization_39[0][0]     \n",
            "__________________________________________________________________________________________________\n",
            "activation_39 (Activation)      (None, 14, 14, 64)   0           add_18[0][0]                     \n",
            "__________________________________________________________________________________________________\n",
            "conv2d_46 (Conv2D)              (None, 7, 7, 128)    73856       activation_39[0][0]              \n",
            "__________________________________________________________________________________________________\n",
            "batch_normalization_40 (BatchNo (None, 7, 7, 128)    512         conv2d_46[0][0]                  \n",
            "__________________________________________________________________________________________________\n",
            "activation_40 (Activation)      (None, 7, 7, 128)    0           batch_normalization_40[0][0]     \n",
            "__________________________________________________________________________________________________\n",
            "conv2d_47 (Conv2D)              (None, 7, 7, 128)    147584      activation_40[0][0]              \n",
            "__________________________________________________________________________________________________\n",
            "conv2d_48 (Conv2D)              (None, 7, 7, 128)    8320        activation_39[0][0]              \n",
            "__________________________________________________________________________________________________\n",
            "batch_normalization_41 (BatchNo (None, 7, 7, 128)    512         conv2d_47[0][0]                  \n",
            "__________________________________________________________________________________________________\n",
            "add_19 (Add)                    (None, 7, 7, 128)    0           conv2d_48[0][0]                  \n",
            "                                                                 batch_normalization_41[0][0]     \n",
            "__________________________________________________________________________________________________\n",
            "activation_41 (Activation)      (None, 7, 7, 128)    0           add_19[0][0]                     \n",
            "__________________________________________________________________________________________________\n",
            "conv2d_49 (Conv2D)              (None, 7, 7, 128)    147584      activation_41[0][0]              \n",
            "__________________________________________________________________________________________________\n",
            "batch_normalization_42 (BatchNo (None, 7, 7, 128)    512         conv2d_49[0][0]                  \n",
            "__________________________________________________________________________________________________\n",
            "activation_42 (Activation)      (None, 7, 7, 128)    0           batch_normalization_42[0][0]     \n",
            "__________________________________________________________________________________________________\n",
            "conv2d_50 (Conv2D)              (None, 7, 7, 128)    147584      activation_42[0][0]              \n",
            "__________________________________________________________________________________________________\n",
            "batch_normalization_43 (BatchNo (None, 7, 7, 128)    512         conv2d_50[0][0]                  \n",
            "__________________________________________________________________________________________________\n",
            "add_20 (Add)                    (None, 7, 7, 128)    0           activation_41[0][0]              \n",
            "                                                                 batch_normalization_43[0][0]     \n",
            "__________________________________________________________________________________________________\n",
            "activation_43 (Activation)      (None, 7, 7, 128)    0           add_20[0][0]                     \n",
            "__________________________________________________________________________________________________\n",
            "conv2d_51 (Conv2D)              (None, 4, 4, 256)    295168      activation_43[0][0]              \n",
            "__________________________________________________________________________________________________\n",
            "batch_normalization_44 (BatchNo (None, 4, 4, 256)    1024        conv2d_51[0][0]                  \n",
            "__________________________________________________________________________________________________\n",
            "activation_44 (Activation)      (None, 4, 4, 256)    0           batch_normalization_44[0][0]     \n",
            "__________________________________________________________________________________________________\n",
            "conv2d_52 (Conv2D)              (None, 4, 4, 256)    590080      activation_44[0][0]              \n",
            "__________________________________________________________________________________________________\n",
            "conv2d_53 (Conv2D)              (None, 4, 4, 256)    33024       activation_43[0][0]              \n",
            "__________________________________________________________________________________________________\n",
            "batch_normalization_45 (BatchNo (None, 4, 4, 256)    1024        conv2d_52[0][0]                  \n",
            "__________________________________________________________________________________________________\n",
            "add_21 (Add)                    (None, 4, 4, 256)    0           conv2d_53[0][0]                  \n",
            "                                                                 batch_normalization_45[0][0]     \n",
            "__________________________________________________________________________________________________\n",
            "activation_45 (Activation)      (None, 4, 4, 256)    0           add_21[0][0]                     \n",
            "__________________________________________________________________________________________________\n",
            "conv2d_54 (Conv2D)              (None, 4, 4, 256)    590080      activation_45[0][0]              \n",
            "__________________________________________________________________________________________________\n",
            "batch_normalization_46 (BatchNo (None, 4, 4, 256)    1024        conv2d_54[0][0]                  \n",
            "__________________________________________________________________________________________________\n",
            "activation_46 (Activation)      (None, 4, 4, 256)    0           batch_normalization_46[0][0]     \n",
            "__________________________________________________________________________________________________\n",
            "conv2d_55 (Conv2D)              (None, 4, 4, 256)    590080      activation_46[0][0]              \n",
            "__________________________________________________________________________________________________\n",
            "batch_normalization_47 (BatchNo (None, 4, 4, 256)    1024        conv2d_55[0][0]                  \n",
            "__________________________________________________________________________________________________\n",
            "add_22 (Add)                    (None, 4, 4, 256)    0           activation_45[0][0]              \n",
            "                                                                 batch_normalization_47[0][0]     \n",
            "__________________________________________________________________________________________________\n",
            "activation_47 (Activation)      (None, 4, 4, 256)    0           add_22[0][0]                     \n",
            "__________________________________________________________________________________________________\n",
            "conv2d_56 (Conv2D)              (None, 2, 2, 512)    1180160     activation_47[0][0]              \n",
            "__________________________________________________________________________________________________\n",
            "batch_normalization_48 (BatchNo (None, 2, 2, 512)    2048        conv2d_56[0][0]                  \n",
            "__________________________________________________________________________________________________\n",
            "activation_48 (Activation)      (None, 2, 2, 512)    0           batch_normalization_48[0][0]     \n",
            "__________________________________________________________________________________________________\n",
            "conv2d_57 (Conv2D)              (None, 2, 2, 512)    2359808     activation_48[0][0]              \n",
            "__________________________________________________________________________________________________\n",
            "conv2d_58 (Conv2D)              (None, 2, 2, 512)    131584      activation_47[0][0]              \n",
            "__________________________________________________________________________________________________\n",
            "batch_normalization_49 (BatchNo (None, 2, 2, 512)    2048        conv2d_57[0][0]                  \n",
            "__________________________________________________________________________________________________\n",
            "add_23 (Add)                    (None, 2, 2, 512)    0           conv2d_58[0][0]                  \n",
            "                                                                 batch_normalization_49[0][0]     \n",
            "__________________________________________________________________________________________________\n",
            "activation_49 (Activation)      (None, 2, 2, 512)    0           add_23[0][0]                     \n",
            "__________________________________________________________________________________________________\n",
            "conv2d_59 (Conv2D)              (None, 2, 2, 512)    2359808     activation_49[0][0]              \n",
            "__________________________________________________________________________________________________\n",
            "batch_normalization_50 (BatchNo (None, 2, 2, 512)    2048        conv2d_59[0][0]                  \n",
            "__________________________________________________________________________________________________\n",
            "activation_50 (Activation)      (None, 2, 2, 512)    0           batch_normalization_50[0][0]     \n",
            "__________________________________________________________________________________________________\n",
            "conv2d_60 (Conv2D)              (None, 2, 2, 512)    2359808     activation_50[0][0]              \n",
            "__________________________________________________________________________________________________\n",
            "batch_normalization_51 (BatchNo (None, 2, 2, 512)    2048        conv2d_60[0][0]                  \n",
            "__________________________________________________________________________________________________\n",
            "add_24 (Add)                    (None, 2, 2, 512)    0           activation_49[0][0]              \n",
            "                                                                 batch_normalization_51[0][0]     \n",
            "__________________________________________________________________________________________________\n",
            "activation_51 (Activation)      (None, 2, 2, 512)    0           add_24[0][0]                     \n",
            "__________________________________________________________________________________________________\n",
            "average_pooling2d_3 (AveragePoo (None, 1, 1, 512)    0           activation_51[0][0]              \n",
            "__________________________________________________________________________________________________\n",
            "flatten_3 (Flatten)             (None, 512)          0           average_pooling2d_3[0][0]        \n",
            "__________________________________________________________________________________________________\n",
            "dense_3 (Dense)                 (None, 5)            2565        flatten_3[0][0]                  \n",
            "==================================================================================================\n",
            "Total params: 11,183,621\n",
            "Trainable params: 11,175,813\n",
            "Non-trainable params: 7,808\n",
            "__________________________________________________________________________________________________\n"
          ],
          "name": "stdout"
        }
      ]
    },
    {
      "cell_type": "code",
      "metadata": {
        "id": "WsjKLc4E_1MY",
        "colab_type": "code",
        "outputId": "cb1c7ad3-7329-468b-c0a4-bbfe3369e567",
        "colab": {
          "base_uri": "https://localhost:8080/",
          "height": 1000
        }
      },
      "source": [
        "import time\n",
        "time_start = time.time()\n",
        "history=model.fit(x_train, y_train,\n",
        "              batch_size=batch_size,\n",
        "              epochs= epochs,\n",
        "              validation_data=(x_val, y_val),\n",
        "              shuffle=True,\n",
        "          verbose = 1)\n",
        "time_end = time.time()\n",
        "print(\"time taken for training ResNet for epochs = 10 is  {0}\".format(time_end -time_start))"
      ],
      "execution_count": 0,
      "outputs": [
        {
          "output_type": "stream",
          "text": [
            "Train on 47520 samples, validate on 11880 samples\n",
            "Epoch 1/40\n",
            "47520/47520 [==============================] - 14s 304us/step - loss: 2.3850 - accuracy: 0.4717 - val_loss: 2.2969 - val_accuracy: 0.3821\n",
            "Epoch 2/40\n",
            "47520/47520 [==============================] - 10s 219us/step - loss: 1.7167 - accuracy: 0.6881 - val_loss: 1.9392 - val_accuracy: 0.5790\n",
            "Epoch 3/40\n",
            "47520/47520 [==============================] - 10s 219us/step - loss: 1.5921 - accuracy: 0.7449 - val_loss: 1.7560 - val_accuracy: 0.6814\n",
            "Epoch 4/40\n",
            "47520/47520 [==============================] - 10s 220us/step - loss: 1.5171 - accuracy: 0.7773 - val_loss: 1.6428 - val_accuracy: 0.7264\n",
            "Epoch 5/40\n",
            "47520/47520 [==============================] - 10s 219us/step - loss: 1.4628 - accuracy: 0.8025 - val_loss: 1.5567 - val_accuracy: 0.7628\n",
            "Epoch 6/40\n",
            "47520/47520 [==============================] - 10s 219us/step - loss: 1.4204 - accuracy: 0.8205 - val_loss: 1.5006 - val_accuracy: 0.7820\n",
            "Epoch 7/40\n",
            "47520/47520 [==============================] - 10s 219us/step - loss: 1.3826 - accuracy: 0.8368 - val_loss: 1.4607 - val_accuracy: 0.7981\n",
            "Epoch 8/40\n",
            "47520/47520 [==============================] - 10s 219us/step - loss: 1.3515 - accuracy: 0.8514 - val_loss: 1.4378 - val_accuracy: 0.8058\n",
            "Epoch 9/40\n",
            "47520/47520 [==============================] - 10s 219us/step - loss: 1.3233 - accuracy: 0.8637 - val_loss: 1.4181 - val_accuracy: 0.8148\n",
            "Epoch 10/40\n",
            "47520/47520 [==============================] - 10s 219us/step - loss: 1.2978 - accuracy: 0.8748 - val_loss: 1.4110 - val_accuracy: 0.8182\n",
            "Epoch 11/40\n",
            "47520/47520 [==============================] - 10s 219us/step - loss: 1.2735 - accuracy: 0.8868 - val_loss: 1.3964 - val_accuracy: 0.8236\n",
            "Epoch 12/40\n",
            "47520/47520 [==============================] - 10s 219us/step - loss: 1.2499 - accuracy: 0.8977 - val_loss: 1.3909 - val_accuracy: 0.8242\n",
            "Epoch 13/40\n",
            "47520/47520 [==============================] - 10s 219us/step - loss: 1.2286 - accuracy: 0.9063 - val_loss: 1.3867 - val_accuracy: 0.8259\n",
            "Epoch 14/40\n",
            "47520/47520 [==============================] - 10s 219us/step - loss: 1.2087 - accuracy: 0.9159 - val_loss: 1.3769 - val_accuracy: 0.8290\n",
            "Epoch 15/40\n",
            "47520/47520 [==============================] - 10s 219us/step - loss: 1.1889 - accuracy: 0.9247 - val_loss: 1.3742 - val_accuracy: 0.8311\n",
            "Epoch 16/40\n",
            "47520/47520 [==============================] - 10s 219us/step - loss: 1.1697 - accuracy: 0.9340 - val_loss: 1.3733 - val_accuracy: 0.8289\n",
            "Epoch 17/40\n",
            "47520/47520 [==============================] - 10s 220us/step - loss: 1.1518 - accuracy: 0.9418 - val_loss: 1.3712 - val_accuracy: 0.8306\n",
            "Epoch 18/40\n",
            "47520/47520 [==============================] - 10s 219us/step - loss: 1.1338 - accuracy: 0.9503 - val_loss: 1.3796 - val_accuracy: 0.8276\n",
            "Epoch 19/40\n",
            "47520/47520 [==============================] - 10s 219us/step - loss: 1.1187 - accuracy: 0.9570 - val_loss: 1.3720 - val_accuracy: 0.8311\n",
            "Epoch 20/40\n",
            "47520/47520 [==============================] - 10s 219us/step - loss: 1.1016 - accuracy: 0.9641 - val_loss: 1.3741 - val_accuracy: 0.8303\n",
            "Epoch 21/40\n",
            "47520/47520 [==============================] - 10s 219us/step - loss: 1.0860 - accuracy: 0.9704 - val_loss: 1.3712 - val_accuracy: 0.8327\n",
            "Epoch 22/40\n",
            "47520/47520 [==============================] - 10s 219us/step - loss: 1.0698 - accuracy: 0.9771 - val_loss: 1.3723 - val_accuracy: 0.8345\n",
            "Epoch 23/40\n",
            "47520/47520 [==============================] - 10s 219us/step - loss: 1.0576 - accuracy: 0.9810 - val_loss: 1.3831 - val_accuracy: 0.8297\n",
            "Epoch 24/40\n",
            "47520/47520 [==============================] - 10s 219us/step - loss: 1.0456 - accuracy: 0.9842 - val_loss: 1.3831 - val_accuracy: 0.8311\n",
            "Epoch 25/40\n",
            "47520/47520 [==============================] - 10s 219us/step - loss: 1.0328 - accuracy: 0.9887 - val_loss: 1.3835 - val_accuracy: 0.8334\n",
            "Epoch 26/40\n",
            "47520/47520 [==============================] - 10s 219us/step - loss: 1.0216 - accuracy: 0.9922 - val_loss: 1.3887 - val_accuracy: 0.8318\n",
            "Epoch 27/40\n",
            "47520/47520 [==============================] - 10s 219us/step - loss: 1.0134 - accuracy: 0.9932 - val_loss: 1.3926 - val_accuracy: 0.8319\n",
            "Epoch 28/40\n",
            "47520/47520 [==============================] - 10s 219us/step - loss: 1.0042 - accuracy: 0.9956 - val_loss: 1.3983 - val_accuracy: 0.8321\n",
            "Epoch 29/40\n",
            "47520/47520 [==============================] - 10s 218us/step - loss: 0.9953 - accuracy: 0.9972 - val_loss: 1.4069 - val_accuracy: 0.8311\n",
            "Epoch 30/40\n",
            "47520/47520 [==============================] - 10s 219us/step - loss: 0.9884 - accuracy: 0.9978 - val_loss: 1.4137 - val_accuracy: 0.8301\n",
            "Epoch 31/40\n",
            "47520/47520 [==============================] - 10s 219us/step - loss: 0.9823 - accuracy: 0.9984 - val_loss: 1.4162 - val_accuracy: 0.8332\n",
            "Epoch 32/40\n",
            "47520/47520 [==============================] - 10s 219us/step - loss: 0.9772 - accuracy: 0.9986 - val_loss: 1.4235 - val_accuracy: 0.8294\n",
            "Epoch 33/40\n",
            "47520/47520 [==============================] - 10s 219us/step - loss: 0.9713 - accuracy: 0.9994 - val_loss: 1.4334 - val_accuracy: 0.8292\n",
            "Epoch 34/40\n",
            "47520/47520 [==============================] - 10s 219us/step - loss: 0.9666 - accuracy: 0.9996 - val_loss: 1.4341 - val_accuracy: 0.8327\n",
            "Epoch 35/40\n",
            "47520/47520 [==============================] - 10s 219us/step - loss: 0.9628 - accuracy: 0.9998 - val_loss: 1.4430 - val_accuracy: 0.8287\n",
            "Epoch 36/40\n",
            "47520/47520 [==============================] - 10s 219us/step - loss: 0.9590 - accuracy: 0.9999 - val_loss: 1.4484 - val_accuracy: 0.8297\n",
            "Epoch 37/40\n",
            "47520/47520 [==============================] - 10s 218us/step - loss: 0.9565 - accuracy: 0.9999 - val_loss: 1.4590 - val_accuracy: 0.8274\n",
            "Epoch 38/40\n",
            "47520/47520 [==============================] - 10s 218us/step - loss: 0.9532 - accuracy: 1.0000 - val_loss: 1.4574 - val_accuracy: 0.8315\n",
            "Epoch 39/40\n",
            "47520/47520 [==============================] - 10s 218us/step - loss: 0.9504 - accuracy: 1.0000 - val_loss: 1.4643 - val_accuracy: 0.8311\n",
            "Epoch 40/40\n",
            "47520/47520 [==============================] - 10s 218us/step - loss: 0.9481 - accuracy: 1.0000 - val_loss: 1.4697 - val_accuracy: 0.8302\n",
            "time taken for training ResNet for epochs = 10 is  426.8078966140747\n"
          ],
          "name": "stdout"
        }
      ]
    },
    {
      "cell_type": "code",
      "metadata": {
        "id": "ahlOJk3D9BH2",
        "colab_type": "code",
        "outputId": "263461f3-b60d-4f2e-81e7-0d7509e47244",
        "colab": {
          "base_uri": "https://localhost:8080/",
          "height": 170
        }
      },
      "source": [
        "scores = model.evaluate(x_test, y_test, verbose=1)\n",
        "print('Test loss:', scores[0])\n",
        "print('Test accuracy:', scores[1])\n",
        "pred = model.predict(x_test)\n",
        "pred_classes = np.argmax(pred,axis=-1)\n",
        "f1_s = f1_score(Y_test, pred_classes,average='micro')\n",
        "# f1score.append(f1_s)\n",
        "print(\"F1 score when lr = {0} and epochs = {1} is {2}\".format(0.01,10,f1_s))\n",
        "# cnnpred = model.predict_proba(x_test)\n",
        "# lg_loss = log_loss(Y_test,cnnpred) \n",
        "# logloss.append(\"Logarithm loss when depth =\"+ str(x) + \" and trees = \" + str(y) + \" is : \" + str(lg_loss))\n",
        "# print(\"Logarithm loss when lr = {0} and epochs = {1} is {2}\".format(0.00001,epochs,lg_loss))\n",
        "print(confusion_matrix(Y_test,pred_classes))"
      ],
      "execution_count": 0,
      "outputs": [
        {
          "output_type": "stream",
          "text": [
            "600/600 [==============================] - 0s 294us/step\n",
            "Test loss: 1.4609185727437337\n",
            "Test accuracy: 0.8349999785423279\n",
            "F1 score when lr = 0.01 and epochs = 10 is 0.835\n",
            "[[111   5   3   0   0]\n",
            " [ 11 101  14   1   0]\n",
            " [  2   9  84  10   1]\n",
            " [  0   1  19  84   7]\n",
            " [  0   0   2  14 121]]\n"
          ],
          "name": "stdout"
        }
      ]
    },
    {
      "cell_type": "code",
      "metadata": {
        "id": "enG5ri9h9MwW",
        "colab_type": "code",
        "colab": {}
      },
      "source": [
        ""
      ],
      "execution_count": 0,
      "outputs": []
    },
    {
      "cell_type": "code",
      "metadata": {
        "colab_type": "code",
        "outputId": "3cc47ea9-78c4-44dc-b524-166a67e44b37",
        "id": "Vr-ZvLysWpzY",
        "colab": {
          "base_uri": "https://localhost:8080/",
          "height": 763
        }
      },
      "source": [
        "import matplotlib.pyplot as plt\n",
        "%matplotlib inline\n",
        "accuracy = history.history['accuracy']\n",
        "val_accuracy = history.history['val_accuracy']\n",
        "loss = history.history['loss']\n",
        "val_loss = history.history['val_loss']\n",
        "epochs = range(len(accuracy))\n",
        "plt.figure(figsize=(8,6))\n",
        "plt.plot(epochs, accuracy, 'b', label='Training accuracy',color='navy')\n",
        "plt.plot(epochs, val_accuracy, 'b', label='Validation accuracy',color='orange')\n",
        "plt.title('Training and validation accuracy ResNet epochs = 40 learning rate = 0.00001')\n",
        "plt.legend()\n",
        "plt.figure(figsize=(8,6))\n",
        "plt.plot(epochs, loss, 'b', label='Training loss',color='navy')\n",
        "plt.plot(epochs, val_loss, 'b', label='Validation loss',color='orange')\n",
        "plt.title('Training and validation loss ResNet epochs = 40 learning rate = 0.00001')\n",
        "plt.legend()\n",
        "plt.show()"
      ],
      "execution_count": 0,
      "outputs": [
        {
          "output_type": "display_data",
          "data": {
            "image/png": "[encoded data removed]",
            "text/plain": [
              "<Figure size 576x432 with 1 Axes>"
            ]
          },
          "metadata": {
            "tags": [],
            "needs_background": "light"
          }
        },
        {
          "output_type": "display_data",
          "data": {
            "image/png": "[encoded data removed]",
            "text/plain": [
              "<Figure size 576x432 with 1 Axes>"
            ]
          },
          "metadata": {
            "tags": [],
            "needs_background": "light"
          }
        }
      ]
    },
    {
      "cell_type": "code",
      "metadata": {
        "id": "lBzALgYn750G",
        "colab_type": "code",
        "outputId": "e6f23023-5c3f-4fbd-ca89-22e70f1596c9",
        "colab": {
          "base_uri": "https://localhost:8080/",
          "height": 884
        }
      },
      "source": [
        "import time\n",
        "time_start = time.time()\n",
        "history=model.fit(x_train, y_train,\n",
        "              batch_size=batch_size,\n",
        "              epochs= epochs,\n",
        "              # validation_data=(x_val, y_val),\n",
        "              shuffle=True,\n",
        "          verbose = 1)\n",
        "time_end = time.time()\n",
        "print(\"time taken for training ResNet for epochs = 25 for all data is  {0}\".format(time_end -time_start))"
      ],
      "execution_count": 0,
      "outputs": [
        {
          "output_type": "stream",
          "text": [
            "Epoch 1/25\n",
            "59281/59281 [==============================] - 16s 273us/step - loss: 2.2250 - accuracy: 0.5281\n",
            "Epoch 2/25\n",
            "59281/59281 [==============================] - 12s 205us/step - loss: 1.6610 - accuracy: 0.7143\n",
            "Epoch 3/25\n",
            "59281/59281 [==============================] - 12s 205us/step - loss: 1.5416 - accuracy: 0.7689\n",
            "Epoch 4/25\n",
            "59281/59281 [==============================] - 12s 205us/step - loss: 1.4710 - accuracy: 0.7984\n",
            "Epoch 5/25\n",
            "59281/59281 [==============================] - 12s 205us/step - loss: 1.4203 - accuracy: 0.8207\n",
            "Epoch 6/25\n",
            "59281/59281 [==============================] - 12s 205us/step - loss: 1.3795 - accuracy: 0.8377\n",
            "Epoch 7/25\n",
            "59281/59281 [==============================] - 12s 205us/step - loss: 1.3450 - accuracy: 0.8516\n",
            "Epoch 8/25\n",
            "59281/59281 [==============================] - 12s 205us/step - loss: 1.3152 - accuracy: 0.8646\n",
            "Epoch 9/25\n",
            "59281/59281 [==============================] - 12s 205us/step - loss: 1.2886 - accuracy: 0.8765\n",
            "Epoch 10/25\n",
            "59281/59281 [==============================] - 12s 204us/step - loss: 1.2622 - accuracy: 0.8878\n",
            "Epoch 11/25\n",
            "59281/59281 [==============================] - 12s 205us/step - loss: 1.2388 - accuracy: 0.8976\n",
            "Epoch 12/25\n",
            "59281/59281 [==============================] - 12s 205us/step - loss: 1.2179 - accuracy: 0.9072\n",
            "Epoch 13/25\n",
            "59281/59281 [==============================] - 12s 205us/step - loss: 1.1956 - accuracy: 0.9188\n",
            "Epoch 14/25\n",
            "59281/59281 [==============================] - 12s 205us/step - loss: 1.1759 - accuracy: 0.9272\n",
            "Epoch 15/25\n",
            "59281/59281 [==============================] - 12s 205us/step - loss: 1.1547 - accuracy: 0.9366\n",
            "Epoch 16/25\n",
            "59281/59281 [==============================] - 12s 205us/step - loss: 1.1348 - accuracy: 0.9445\n",
            "Epoch 17/25\n",
            "59281/59281 [==============================] - 12s 205us/step - loss: 1.1165 - accuracy: 0.9529\n",
            "Epoch 18/25\n",
            "59281/59281 [==============================] - 12s 205us/step - loss: 1.0994 - accuracy: 0.9603\n",
            "Epoch 19/25\n",
            "59281/59281 [==============================] - 12s 205us/step - loss: 1.0813 - accuracy: 0.9676\n",
            "Epoch 20/25\n",
            "59281/59281 [==============================] - 12s 204us/step - loss: 1.0646 - accuracy: 0.9748\n",
            "Epoch 21/25\n",
            "59281/59281 [==============================] - 12s 205us/step - loss: 1.0515 - accuracy: 0.9784\n",
            "Epoch 22/25\n",
            "59281/59281 [==============================] - 12s 204us/step - loss: 1.0372 - accuracy: 0.9839\n",
            "Epoch 23/25\n",
            "59281/59281 [==============================] - 12s 205us/step - loss: 1.0240 - accuracy: 0.9879\n",
            "Epoch 24/25\n",
            "59281/59281 [==============================] - 12s 205us/step - loss: 1.0126 - accuracy: 0.9907\n",
            "Epoch 25/25\n",
            "59281/59281 [==============================] - 12s 204us/step - loss: 1.0032 - accuracy: 0.9928\n",
            "time taken for training ResNet for epochs = 25 for all data is  313.5811004638672\n"
          ],
          "name": "stdout"
        }
      ]
    },
    {
      "cell_type": "code",
      "metadata": {
        "colab_type": "code",
        "outputId": "e041f3f2-2fa6-4047-8d89-9260dbaf8448",
        "id": "Qx96jBHKWpzd",
        "colab": {
          "base_uri": "https://localhost:8080/",
          "height": 34
        }
      },
      "source": [
        "time_start = time.time()\n",
        "predicted_classes = model.predict(test)\n",
        "# predict(test)\n",
        "time_end = time.time()\n",
        "print(\"time taken for predicting ResNet is  {0}\".format(time_end -time_start))\n"
      ],
      "execution_count": 0,
      "outputs": [
        {
          "output_type": "stream",
          "text": [
            "time taken for predicting ResNet is  2.266979694366455\n"
          ],
          "name": "stdout"
        }
      ]
    },
    {
      "cell_type": "code",
      "metadata": {
        "colab_type": "code",
        "outputId": "cef89082-a790-43cf-8289-bbbf704a41e4",
        "id": "x4ENRCAXWpzg",
        "colab": {
          "base_uri": "https://localhost:8080/",
          "height": 34
        }
      },
      "source": [
        "predicted_classes.shape\n",
        "# print(np.argmax(predicted_classes[0:15]))\n",
        "# np.argmax(predicted_classes[6])"
      ],
      "execution_count": 0,
      "outputs": [
        {
          "output_type": "execute_result",
          "data": {
            "text/plain": [
              "(10000, 5)"
            ]
          },
          "metadata": {
            "tags": []
          },
          "execution_count": 36
        }
      ]
    },
    {
      "cell_type": "code",
      "metadata": {
        "id": "bZvXC5mfPPUO",
        "colab_type": "code",
        "outputId": "ac9f3add-dcdc-4107-bfc8-aeecee022122",
        "colab": {
          "base_uri": "https://localhost:8080/",
          "height": 34
        }
      },
      "source": [
        "print(np.argmax(predicted_classes[0]))"
      ],
      "execution_count": 0,
      "outputs": [
        {
          "output_type": "stream",
          "text": [
            "4\n"
          ],
          "name": "stdout"
        }
      ]
    },
    {
      "cell_type": "code",
      "metadata": {
        "id": "1RO0bKXfOh4V",
        "colab_type": "code",
        "colab": {}
      },
      "source": [
        "predicted_classes = np.argmax(predicted_classes,axis=-1)\n",
        "# print(predicted_classes)\n",
        "\n"
      ],
      "execution_count": 0,
      "outputs": []
    },
    {
      "cell_type": "code",
      "metadata": {
        "id": "NzVmqbTTPZV1",
        "colab_type": "code",
        "outputId": "63c521fb-5c2b-4481-9746-79a00af2598a",
        "colab": {
          "base_uri": "https://localhost:8080/",
          "height": 34
        }
      },
      "source": [
        "print(predicted_classes)"
      ],
      "execution_count": 0,
      "outputs": [
        {
          "output_type": "stream",
          "text": [
            "[4 4 1 ... 3 2 2]\n"
          ],
          "name": "stdout"
        }
      ]
    },
    {
      "cell_type": "code",
      "metadata": {
        "colab_type": "code",
        "id": "Qleizpj4Wpzs",
        "colab": {}
      },
      "source": [
        "my_submission = pd.DataFrame({'Id': testX.Id, 'Label': predicted_classes})\n",
        "# # # you could use any filename. We choose submission here\n",
        "my_submission.to_csv('ResNet all train.csv', index=False)"
      ],
      "execution_count": 0,
      "outputs": []
    }
  ]
}